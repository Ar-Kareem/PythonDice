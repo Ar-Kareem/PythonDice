{
 "cells": [
  {
   "cell_type": "markdown",
   "metadata": {},
   "source": [
    "# RV calculator"
   ]
  },
  {
   "cell_type": "markdown",
   "metadata": {},
   "source": [
    "This is a clone of the language and capabilities of anydice.com but using the python language"
   ]
  },
  {
   "cell_type": "code",
   "execution_count": 53,
   "metadata": {},
   "outputs": [],
   "source": [
    "import importlib\n",
    "import RandomVariables\n",
    "importlib.reload(RandomVariables)\n",
    "\n",
    "import math\n",
    "from RandomVariables import RV, d, dice, roll, show_summary\n"
   ]
  },
  {
   "cell_type": "code",
   "execution_count": 54,
   "metadata": {},
   "outputs": [
    {
     "data": {
      "text/plain": [
       "mean: 3.50 std: 1.71 \n",
       "1: 16.67\n",
       "2: 16.67\n",
       "3: 16.67\n",
       "4: 16.67\n",
       "5: 16.67\n",
       "6: 16.67"
      ]
     },
     "execution_count": 54,
     "metadata": {},
     "output_type": "execute_result"
    }
   ],
   "source": [
    "3+d('d6')\n",
    "d('d6')+3\n",
    "3-d('d6')\n",
    "d('d6')-3\n",
    "3*d('d6')\n",
    "d('d6')*3\n",
    "d('d6')/3\n",
    "3/d('d6')\n",
    "d('d6')//3\n",
    "3//d('d6')\n",
    "d('d6')**3\n",
    "3**d('d6')\n",
    "d('d6')%3\n",
    "3%d('d6')\n",
    "\n",
    "assert not d('d2') == d('d2')\n",
    "assert d('d1') == d('d1')\n",
    "assert not d('d2') != d('d2')\n",
    "assert not d('d1') != d('d1')\n",
    "assert d('d2') != dice([3, 4])\n",
    "\n",
    "assert d('d6')*12 >= d('d6')*2\n",
    "assert not d('d6')*11 >= d('d6')*2\n",
    "assert d('d6')*13 > d('d6')*2\n",
    "assert not d('d6')*12 > d('d6')*2\n",
    "\n",
    "assert d('d6')*2 <= d('d6')*12\n",
    "assert not d('d6')*2 <= d('d6')*11\n",
    "assert d('d6')*2 < d('d6')*13\n",
    "assert not d('d6')*2 < d('d6')*12\n",
    "\n",
    "+d('d6')\n",
    "-d('d6')\n",
    "abs(d('d6'))\n",
    "round(d('d6'))\n",
    "math.ceil(d('d6'))\n",
    "math.floor(d('d6'))\n",
    "math.trunc(d('d6'))\n"
   ]
  },
  {
   "cell_type": "markdown",
   "metadata": {},
   "source": [
    "## magic missle test"
   ]
  },
  {
   "cell_type": "markdown",
   "metadata": {},
   "source": [
    "This is a demonstration to calculate the damage done in a certain build in baldurs gate 3"
   ]
  },
  {
   "cell_type": "code",
   "execution_count": 4,
   "metadata": {},
   "outputs": [
    {
     "name": "stdout",
     "output_type": "stream",
     "text": [
      "MM LVL1      97 ± 4\n",
      "MM LVL1 wet  108 ± 6\n",
      "MM LVL2      119 ± 4\n",
      "MM LVL2 wet  132 ± 6\n",
      "MM LVL3      141 ± 5\n",
      "MM LVL3 wet  156 ± 6\n",
      "MM LVL4      163 ± 5\n",
      "MM LVL4 wet  180 ± 6\n",
      "MM LVL5      185 ± 5\n",
      "MM LVL5 wet  204 ± 6\n"
     ]
    }
   ],
   "source": [
    "def mm(L):\n",
    "    return base_mm(L, 1, 1, 1)\n",
    "def mm_wet(L):\n",
    "    return base_mm(L, 2, 1, 1)\n",
    "\n",
    "def base_mm(L, MULT_LIGHTNING, MULT_RADIANT, MULT_THUNDER):\n",
    "    N = L+3\n",
    "    A = roll(N, 4)+N + 5*N    # base damage with evocation 20 INT, FORCE\n",
    "    B = roll(N, 4) + 5*N        # shriek with evocation 20 INT, THUNDER\n",
    "    C = 2*N + 2*N  # glow ring for base and shriek, RADIANT \n",
    "    D = 2*(N-2)    # lightning charge +1 damage for every source except the first two, LIGHTNING \n",
    "    E = roll(1, 8)+1 + 1  # lightning stacks cause d8+1 and another +1 after shriek, LIGHTNING\n",
    "    F = roll(1, 4)      # shriek d4 from the lightning, THUNDER\n",
    "    G = 2 + 2      # glow ring for the lightning d8 and shriek d4 RADIANT\n",
    "\n",
    "    # apply multipliers\n",
    "    B = MULT_THUNDER*B\n",
    "    C = MULT_RADIANT*C\n",
    "    D = MULT_LIGHTNING*D\n",
    "    E = MULT_LIGHTNING*E\n",
    "    F = MULT_THUNDER*F\n",
    "    G = MULT_RADIANT*G\n",
    "\n",
    "    return A+B+C+D+E+F+G\n",
    "\n",
    "for lvl in range(1, 6):\n",
    "    show_summary(f'MM LVL{lvl}     ', mm(lvl))\n",
    "    show_summary(f'MM LVL{lvl} wet ', mm_wet(lvl))"
   ]
  },
  {
   "cell_type": "code",
   "execution_count": 55,
   "metadata": {},
   "outputs": [
    {
     "ename": "TypeError",
     "evalue": "unsupported operand type(s) for +: 'int' and 'str'",
     "output_type": "error",
     "traceback": [
      "\u001b[1;31m---------------------------------------------------------------------------\u001b[0m",
      "\u001b[1;31mTypeError\u001b[0m                                 Traceback (most recent call last)",
      "Cell \u001b[1;32mIn[55], line 1\u001b[0m\n\u001b[1;32m----> 1\u001b[0m \u001b[43mdice\u001b[49m\u001b[43m(\u001b[49m\u001b[38;5;241;43m3\u001b[39;49m\u001b[43m)\u001b[49m\u001b[43m \u001b[49m\u001b[38;5;241;43m+\u001b[39;49m\u001b[43m \u001b[49m\u001b[38;5;124;43m'\u001b[39;49m\u001b[38;5;124;43ma\u001b[39;49m\u001b[38;5;124;43m'\u001b[39;49m\n",
      "File \u001b[1;32mm:\\MyFiles\\Code\\Python\\Scripts\\PythonDice\\RandomVariables.py:36\u001b[0m, in \u001b[0;36mRV.__add__\u001b[1;34m(self, other)\u001b[0m\n\u001b[0;32m     35\u001b[0m \u001b[38;5;28;01mdef\u001b[39;00m \u001b[38;5;21m__add__\u001b[39m(\u001b[38;5;28mself\u001b[39m, other):\n\u001b[1;32m---> 36\u001b[0m     \u001b[38;5;28;01mreturn\u001b[39;00m \u001b[38;5;28;43mself\u001b[39;49m\u001b[38;5;241;43m.\u001b[39;49m\u001b[43mconvolve\u001b[49m\u001b[43m(\u001b[49m\u001b[43mother\u001b[49m\u001b[43m,\u001b[49m\u001b[43m \u001b[49m\u001b[43moperator\u001b[49m\u001b[38;5;241;43m.\u001b[39;49m\u001b[43madd\u001b[49m\u001b[43m)\u001b[49m\n",
      "File \u001b[1;32mm:\\MyFiles\\Code\\Python\\Scripts\\PythonDice\\RandomVariables.py:27\u001b[0m, in \u001b[0;36mRV.convolve\u001b[1;34m(self, other, operation)\u001b[0m\n\u001b[0;32m     25\u001b[0m \u001b[38;5;28;01mdef\u001b[39;00m \u001b[38;5;21mconvolve\u001b[39m(\u001b[38;5;28mself\u001b[39m, other, operation):\n\u001b[0;32m     26\u001b[0m     \u001b[38;5;28;01mif\u001b[39;00m \u001b[38;5;129;01mnot\u001b[39;00m \u001b[38;5;28misinstance\u001b[39m(other, RV):\n\u001b[1;32m---> 27\u001b[0m         \u001b[38;5;28;01mreturn\u001b[39;00m RV(\u001b[43m[\u001b[49m\u001b[43moperation\u001b[49m\u001b[43m(\u001b[49m\u001b[43mv\u001b[49m\u001b[43m,\u001b[49m\u001b[43m \u001b[49m\u001b[43mother\u001b[49m\u001b[43m)\u001b[49m\u001b[43m \u001b[49m\u001b[38;5;28;43;01mfor\u001b[39;49;00m\u001b[43m \u001b[49m\u001b[43mv\u001b[49m\u001b[43m \u001b[49m\u001b[38;5;129;43;01min\u001b[39;49;00m\u001b[43m \u001b[49m\u001b[38;5;28;43mself\u001b[39;49m\u001b[38;5;241;43m.\u001b[39;49m\u001b[43mvals\u001b[49m\u001b[43m]\u001b[49m, \u001b[38;5;28mself\u001b[39m\u001b[38;5;241m.\u001b[39mprobs)\n\u001b[0;32m     28\u001b[0m     new_vals \u001b[38;5;241m=\u001b[39m \u001b[38;5;28mtuple\u001b[39m(operation(v1, v2) \u001b[38;5;28;01mfor\u001b[39;00m v1 \u001b[38;5;129;01min\u001b[39;00m \u001b[38;5;28mself\u001b[39m\u001b[38;5;241m.\u001b[39mvals \u001b[38;5;28;01mfor\u001b[39;00m v2 \u001b[38;5;129;01min\u001b[39;00m other\u001b[38;5;241m.\u001b[39mvals)\n\u001b[0;32m     29\u001b[0m     new_probs \u001b[38;5;241m=\u001b[39m \u001b[38;5;28mtuple\u001b[39m(p1\u001b[38;5;241m*\u001b[39mp2 \u001b[38;5;28;01mfor\u001b[39;00m p1 \u001b[38;5;129;01min\u001b[39;00m \u001b[38;5;28mself\u001b[39m\u001b[38;5;241m.\u001b[39mprobs \u001b[38;5;28;01mfor\u001b[39;00m p2 \u001b[38;5;129;01min\u001b[39;00m other\u001b[38;5;241m.\u001b[39mprobs)\n",
      "File \u001b[1;32mm:\\MyFiles\\Code\\Python\\Scripts\\PythonDice\\RandomVariables.py:27\u001b[0m, in \u001b[0;36m<listcomp>\u001b[1;34m(.0)\u001b[0m\n\u001b[0;32m     25\u001b[0m \u001b[38;5;28;01mdef\u001b[39;00m \u001b[38;5;21mconvolve\u001b[39m(\u001b[38;5;28mself\u001b[39m, other, operation):\n\u001b[0;32m     26\u001b[0m     \u001b[38;5;28;01mif\u001b[39;00m \u001b[38;5;129;01mnot\u001b[39;00m \u001b[38;5;28misinstance\u001b[39m(other, RV):\n\u001b[1;32m---> 27\u001b[0m         \u001b[38;5;28;01mreturn\u001b[39;00m RV([operation(v, other) \u001b[38;5;28;01mfor\u001b[39;00m v \u001b[38;5;129;01min\u001b[39;00m \u001b[38;5;28mself\u001b[39m\u001b[38;5;241m.\u001b[39mvals], \u001b[38;5;28mself\u001b[39m\u001b[38;5;241m.\u001b[39mprobs)\n\u001b[0;32m     28\u001b[0m     new_vals \u001b[38;5;241m=\u001b[39m \u001b[38;5;28mtuple\u001b[39m(operation(v1, v2) \u001b[38;5;28;01mfor\u001b[39;00m v1 \u001b[38;5;129;01min\u001b[39;00m \u001b[38;5;28mself\u001b[39m\u001b[38;5;241m.\u001b[39mvals \u001b[38;5;28;01mfor\u001b[39;00m v2 \u001b[38;5;129;01min\u001b[39;00m other\u001b[38;5;241m.\u001b[39mvals)\n\u001b[0;32m     29\u001b[0m     new_probs \u001b[38;5;241m=\u001b[39m \u001b[38;5;28mtuple\u001b[39m(p1\u001b[38;5;241m*\u001b[39mp2 \u001b[38;5;28;01mfor\u001b[39;00m p1 \u001b[38;5;129;01min\u001b[39;00m \u001b[38;5;28mself\u001b[39m\u001b[38;5;241m.\u001b[39mprobs \u001b[38;5;28;01mfor\u001b[39;00m p2 \u001b[38;5;129;01min\u001b[39;00m other\u001b[38;5;241m.\u001b[39mprobs)\n",
      "\u001b[1;31mTypeError\u001b[0m: unsupported operand type(s) for +: 'int' and 'str'"
     ]
    }
   ],
   "source": [
    "dice(3) + 'a'"
   ]
  }
 ],
 "metadata": {
  "kernelspec": {
   "display_name": "base",
   "language": "python",
   "name": "python3"
  },
  "language_info": {
   "codemirror_mode": {
    "name": "ipython",
    "version": 3
   },
   "file_extension": ".py",
   "mimetype": "text/x-python",
   "name": "python",
   "nbconvert_exporter": "python",
   "pygments_lexer": "ipython3",
   "version": "3.11.4"
  }
 },
 "nbformat": 4,
 "nbformat_minor": 2
}
