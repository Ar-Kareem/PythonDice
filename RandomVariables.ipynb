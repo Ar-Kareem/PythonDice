{
 "cells": [
  {
   "cell_type": "markdown",
   "metadata": {},
   "source": [
    "# RV calculator"
   ]
  },
  {
   "cell_type": "markdown",
   "metadata": {},
   "source": [
    "This is a clone of the language and capabilities of anydice.com but using the python language"
   ]
  },
  {
   "cell_type": "code",
   "execution_count": 1,
   "metadata": {},
   "outputs": [],
   "source": [
    "import importlib\n",
    "import math\n",
    "\n",
    "import randvar\n",
    "from randvar import RV, Seq, d, dice, roll, output\n",
    "\n",
    "def reload():\n",
    "    global randvar, RV, Seq, d, dice, roll, output\n",
    "    importlib.reload(randvar)\n",
    "    importlib.reload(randvar.utils)\n",
    "    from randvar import RV, Seq, d, dice, roll, output\n"
   ]
  },
  {
   "cell_type": "code",
   "execution_count": 2,
   "metadata": {},
   "outputs": [],
   "source": [
    "reload()\n",
    "\n",
    "3+d('d6')\n",
    "d('d6')+3\n",
    "3-d('d6')\n",
    "d('d6')-3\n",
    "3*d('d6')\n",
    "d('d6')*3\n",
    "d('d6')/3\n",
    "3/d('d6')\n",
    "d('d6')//3\n",
    "3//d('d6')\n",
    "d('d6')**3\n",
    "3**d('d6')\n",
    "d('d6')%3\n",
    "3%d('d6')\n",
    "\n",
    "assert not d('d2') == d('d2')\n",
    "assert d('d1') == d('d1')\n",
    "assert not d('d2') != d('d2')\n",
    "assert not d('d1') != d('d1')\n",
    "assert d('d2') != dice([3, 4])\n",
    "\n",
    "assert d('d6')*12 >= d('d6')*2\n",
    "assert not d('d6')*11 >= d('d6')*2\n",
    "assert d('d6')*13 > d('d6')*2\n",
    "assert not d('d6')*12 > d('d6')*2\n",
    "\n",
    "assert d('d6')*2 <= d('d6')*12\n",
    "assert not d('d6')*2 <= d('d6')*11\n",
    "assert d('d6')*2 < d('d6')*13\n",
    "assert not d('d6')*2 < d('d6')*12\n",
    "\n",
    "+d('d6')\n",
    "-d('d6')\n",
    "abs(d('d6'))\n",
    "round(d('d6'))\n",
    "math.ceil(d('d6'))\n",
    "math.floor(d('d6'))\n",
    "math.trunc(d('d6'))\n",
    "\n",
    "# rolls of seqs\n",
    "assert RV.dices_are_equal(dice(Seq(2, Seq(3, 2, dice(3)))), RV((1, 2, 3), (1, 3, 2)))\n",
    "assert RV.dices_are_equal(roll(2, roll(2, 2)), RV((4, 5, 6, 7, 8), (1, 4, 6, 4, 1)))\n",
    "assert RV.dices_are_equal(roll(2, Seq(roll(2, 2))), RV((4, 5, 6, 7, 8), (1, 2, 3, 2, 1)))\n",
    "\n",
    "assert Seq(2)@Seq(1, 2, 3) == 2, '@ symbol for seqs'\n",
    "assert Seq(1, 2)@Seq(2, 3, 999, 999) == 5, '@ symbol for seqs'\n",
    "assert Seq(-1000, 2, 2, 1000)@Seq(2, 3, 4, 5) == 6, '@ symbol for seqs'\n",
    "\n",
    "assert RV.dices_are_equal(Seq([1, 2, 5]) + roll(2, 6), RV(tuple(range(10, 21)), (1, 2, 3, 4, 5, 6, 5, 4, 3, 2, 1))), 'seq + roll'\n",
    "assert RV.dices_are_equal(Seq([1, 2, 5]) > roll(2, 6), RV((0, 1), (5, 7))), 'seq > roll'\n",
    "assert RV.dices_are_equal(roll(2, 6) < Seq([1, 2, 5]), RV((0, 1), (5, 7))), 'roll < seq'\n",
    "\n",
    "assert Seq(1, 2) == Seq(1, 2), 'seq == seq'\n",
    "assert Seq(1, 2) != Seq(2, 1), 'seq != seq'\n",
    "assert Seq(1) != Seq(1, 1), 'seq != seq'\n",
    "assert Seq(1, 1) != Seq(1), 'seq != seq'\n",
    "assert Seq(2, 2) > Seq(1), 'seq > seq'\n",
    "assert not Seq(1, 2) > Seq(1), 'seq > seq'\n",
    "assert Seq(0, 1) < Seq(1, 2, 3), 'seq < seq'\n",
    "assert not Seq(1, 1) < Seq(1, 2, 3), 'seq < seq'\n",
    "assert Seq(1, 3) >= Seq(1, 2), 'seq >= seq'\n",
    "assert not Seq(1, 3) >= Seq(1, 2, 3), 'seq >= seq'\n",
    "assert Seq(1, 2) <= Seq(1, 2), 'seq <= seq'\n",
    "assert not Seq(1, 2, 3) <= Seq(1, 2), 'seq <= seq'\n",
    "\n",
    "assert Seq(1, 2) + 1 == 4, 'seq + num'\n",
    "assert Seq(1, 2) - 1 == 2, 'seq - num'\n",
    "assert Seq(1, 2) * 2 == 6, 'seq * num'\n",
    "assert Seq(1, 2) / 2 == 1.5, 'seq / num'\n",
    "assert Seq(1, 2) // 2 == 1, 'seq // num'\n",
    "assert Seq(1, 2) % 2 == 1, 'seq % num'\n",
    "assert Seq(1, 2) ** 2 == 9, 'seq ** num'\n",
    "\n",
    "assert 1 + Seq(1, 2) == 4, 'num + seq'\n",
    "assert 1 - Seq(1, 2) == -2, 'num - seq'\n",
    "assert 2 * Seq(1, 2) == 6, 'num * seq'\n",
    "assert 6 / Seq(1, 2) == 2, 'num / seq'\n",
    "assert 5 // Seq(1, 2) == 1, 'num // seq'\n",
    "assert 5 % Seq(1, 2) == 2, 'num % seq'\n",
    "assert 2 ** Seq(1, 2) == 8, 'num ** seq'\n",
    "\n",
    "assert Seq(1, 2) + Seq(1, 2) == 6, 'seq + seq'\n",
    "assert Seq(1, 2) - Seq(1, 2) == 0, 'seq - seq'\n",
    "assert Seq(1, 2) * Seq(1, 2) == 9, 'seq * seq'\n",
    "assert Seq(1, 2) / Seq(1, 2) == 1, 'seq / seq'\n",
    "assert Seq(1, 2) // Seq(1, 2) == 1, 'seq // seq'\n",
    "assert Seq(1, 2) % Seq(2) == 1, 'seq % seq'\n",
    "assert Seq(1, 2) ** Seq(2) == 9, 'seq ** seq'\n",
    "\n",
    "assert 1@Seq(2,4,6) == 2, 'NUM @ SEQ'\n",
    "assert 3@Seq(2,4,6) == 6, 'NUM @ SEQ'\n",
    "assert Seq(1,3)@Seq(2,4,6) == 8, 'SEQ @ SEQ'\n",
    "assert Seq(1,2,2)@Seq(2,4,6) == 10, 'SEQ @ SEQ'\n",
    "\n",
    "# TEST CASTING\n",
    "@randvar.cast_dice_to_seq()\n",
    "def count(VALUES:Seq, SEQUENCE:Seq, *args):\n",
    "    COUNT = 0\n",
    "    for P in range(1, len(VALUES)+1):\n",
    "        COUNT = COUNT + (P@VALUES == SEQUENCE)\n",
    "    return COUNT\n",
    "\n",
    "a = count(VALUES=roll(3, 2), SEQUENCE=roll(2, 2))\n",
    "b = count(roll(3, 2), SEQUENCE=roll(2, 2))\n",
    "c = count(roll(3, 2), roll(2, 2), 1, 1, 1)\n",
    "d = RV(vals=(0, 2, 3, 4, 6), probs=(1, 3, 8, 3, 1))  # manual\n",
    "assert RV.dices_are_equal(a, b) and RV.dices_are_equal(b, c) and RV.dices_are_equal(c, d), 'casting multiple dices to sequence'\n",
    "\n",
    "@randvar.cast_dice_to_seq()\n",
    "def cast(M:Seq):\n",
    "    return M+1\n",
    "assert RV.dices_are_equal(cast(roll(2, 2)), roll(2, 2)+1), 'casting single dice to sequence'\n",
    "\n",
    "# TEST @ for dices\n",
    "@randvar.cast_dice_to_seq()\n",
    "def count(V, SEQUENCE:Seq, *args):\n",
    "    return V@SEQUENCE\n",
    "assert RV.dices_are_equal(count(1, roll(2, 4)), RV((1, 2, 3, 4), (1, 3, 5, 7))), 'NUM @ DICED SEQ'\n",
    "assert RV.dices_are_equal(1@roll(2, 4), RV((1, 2, 3, 4), (1, 3, 5, 7))), 'NUM @ DICED SEQ'\n",
    "\n",
    "assert RV.dices_are_equal(1 @ roll(2, 4), RV((1, 2, 3, 4), (1, 3, 5, 7))), 'NUM @ DIE'\n",
    "assert RV.dices_are_equal(Seq(1, 2) @ roll(2, 4), RV((2, 3, 4, 5, 6, 7, 8), (1, 2, 3, 4, 3, 2, 1))), 'SEQ @ DIE'\n",
    "assert RV.dices_are_equal(Seq(1,2)@roll(3, 6), RV((2, 3, 4, 5, 6, 7, 8, 9, 10, 11, 12), (1, 3, 7, 12, 19, 27, 34, 36, 34, 27, 16))), 'SEQ @ DIE [in docs]'\n",
    "assert RV.dices_are_equal(3 @ roll(2, 4), RV((0, ), (1, ))), 'NUM @ DIE OOB'\n",
    "assert RV.dices_are_equal(1 @ roll(3, 6), RV((1, 2, 3, 4, 5, 6), (1, 7, 19, 37, 61, 91))), 'NUM @ DIE [in docs]'\n",
    "assert RV.dices_are_equal(3 @ roll(3, 6), RV((1, 2, 3, 4, 5, 6), (91, 61, 37, 19, 7, 1))), 'NUM @ DIE [in docs]'\n",
    "assert RV.dices_are_equal(0 @ dice(6), RV((0, ), (1, ))), 'NUM @ DIE OOB'\n",
    "assert RV.dices_are_equal(1 @ dice(6), dice(6)), 'NUM @ DIE single dice'\n",
    "assert RV.dices_are_equal(2 @ dice(6), RV((0, ), (1, ))), 'NUM @ DIE OOB'\n",
    "\n",
    "\n",
    "# should fail, DIE @ [DIE|SEQ|NUM]\n",
    "try:\n",
    "    roll(2, 4) @ roll(2, 4)\n",
    "    assert False, 'DIE @ DIE should fail'\n",
    "except TypeError:\n",
    "    pass\n",
    "try:\n",
    "    roll(2, 4) @ 1\n",
    "    assert False, 'DIE @ NUM should fail'\n",
    "except TypeError:\n",
    "    pass\n",
    "try:\n",
    "    roll(2, 4) @ Seq(1, 2)\n",
    "    assert False, 'DIE @ SEQ should fail'\n",
    "except TypeError:\n",
    "    pass\n",
    "\n",
    "assert len(dice(6)) == 1, 'len(d6) == 1'\n",
    "assert len(roll(2, 6)) == 2, 'len(2d6) == 2'\n",
    "assert len(roll(3, 6)) == 3, 'len(3d6) == 3'\n",
    "\n",
    "# CHECK ROLLS\n",
    "# N d [N|SEQ|DIE]\n",
    "assert RV.dices_are_equal(roll(2, 3), RV((2, 3, 4, 5, 6), (1, 2, 3, 2, 1))), 'N d N'\n",
    "assert RV.dices_are_equal(roll(2, Seq(1, 5, 5)), RV((2, 6, 10), (1, 4, 4))), 'N d SEQ'\n",
    "assert RV.dices_are_equal(roll(2, roll(3, 4)), RV(range(6, 25), (1, 6, 21, 56, 120, 216, 336, 456, 546, 580, 546, 456, 336, 216, 120, 56, 21, 6, 1))), 'N d RV'\n",
    "# SEQ d [N|SEQ|DIE]\n",
    "assert RV.dices_are_equal(roll(Seq(1, 2), 3), roll(1, 3)+roll(2, 3)), 'SEQ d N'\n",
    "assert RV.dices_are_equal(roll(Seq(1, 2), Seq(2, 3)), RV((6, 7, 8, 9), (1, 3, 3, 1))), 'SEQ d SEQ'\n",
    "assert RV.dices_are_equal(roll(Seq(1, 2), roll(2, 2)), RV((6, 7, 8, 9, 10, 11, 12), (1, 6, 15, 20, 15, 6, 1))), 'SEQ d RV'\n",
    "# DIE d [N|SEQ|DIE]\n",
    "assert RV.dices_are_equal(roll(roll(2, 2), 2), RV((2, 3, 4, 5, 6, 7, 8), (4, 12, 17, 16, 10, 4, 1))), 'RV d N'\n",
    "assert RV.dices_are_equal(roll(roll(2, 2), Seq(5, 7)), RV((10, 12, 14, 15, 17, 19, 20, 21, 22, 24, 26, 28), (4, 8, 4, 4, 12, 12, 1, 4, 4, 6, 4, 1))), 'RV d SEQ'\n",
    "assert RV.dices_are_equal(roll(dice(2), dice(2)), RV((1, 2, 3, 4), (2, 3, 2, 1))), 'RV d RV'\n",
    "assert RV.dices_are_equal(roll(roll(2, 2), dice(2)), RV((2, 3, 4, 5, 6, 7, 8), (4, 12, 17, 16, 10, 4, 1))), 'RV d RV'\n",
    "assert RV.dices_are_equal(roll(roll(2, 2), roll(2, 2)), RV(range(4, 17), (16, 64, 104, 112, 137, 168, 148, 104, 78, 56, 28, 8, 1))), 'RV d RV'\n",
    "\n",
    "@randvar.cast_dice_to_seq()\n",
    "def p(SEQUENCE:Seq):\n",
    "    return roll(3, SEQUENCE)\n",
    "assert RV.dices_are_equal(p(roll(2, 3)), RV(range(3, 10), (2, 1, 2, 2, 2, 1, 2))), 'return dice after casting'\n",
    "\n"
   ]
  },
  {
   "cell_type": "code",
   "execution_count": 348,
   "metadata": {},
   "outputs": [
    {
     "data": {
      "text/plain": [
       "True"
      ]
     },
     "execution_count": 348,
     "metadata": {},
     "output_type": "execute_result"
    }
   ],
   "source": [
    "reload()\n",
    "\n"
   ]
  },
  {
   "cell_type": "code",
   "execution_count": 3,
   "metadata": {},
   "outputs": [
    {
     "data": {
      "text/plain": [
       "6.0 ± 1.41\n",
       "3: 3.70  ███\n",
       "4: 11.11  █████████\n",
       "5: 22.22  ██████████████████\n",
       "6: 25.93  █████████████████████\n",
       "7: 22.22  ██████████████████\n",
       "8: 11.11  █████████\n",
       "9: 3.70  ███\n",
       "--------------------------------------------------------------------------------"
      ]
     },
     "execution_count": 3,
     "metadata": {},
     "output_type": "execute_result"
    }
   ],
   "source": [
    "@randvar.cast_dice_to_seq()\n",
    "def cast(M:Seq): \n",
    "    return M\n",
    "# assert RV.dices_are_equal(cast(roll(3, 3)), roll(3, 3)), 'cast(3d3) == 3d3'\n",
    "None\n",
    "# cast(roll(3, 3))\n",
    "roll(Seq(1, 2), 3)"
   ]
  },
  {
   "cell_type": "code",
   "execution_count": null,
   "metadata": {},
   "outputs": [],
   "source": [
    "reload()\n",
    "output(4)\n",
    "output(Seq([1, 2, 3]*2, [1, 2]*2))\n",
    "output(roll(2, 4))\n",
    "None"
   ]
  },
  {
   "cell_type": "markdown",
   "metadata": {},
   "source": [
    "## magic missle test"
   ]
  },
  {
   "cell_type": "markdown",
   "metadata": {},
   "source": [
    "This is a demonstration to calculate the damage done in a certain build in baldurs gate 3"
   ]
  },
  {
   "cell_type": "code",
   "execution_count": 142,
   "metadata": {},
   "outputs": [
    {
     "name": "stdout",
     "output_type": "stream",
     "text": [
      "MM LVL1      57.0 ± 4.06\n",
      "MM LVL1 wet  67.5 ± 5.68\n",
      "MM LVL2      69.0 ± 4.36\n",
      "MM LVL2 wet  81.5 ± 5.89\n",
      "MM LVL3      81.0 ± 4.64\n",
      "MM LVL3 wet  95.5 ± 6.1\n",
      "MM LVL4      93.0 ± 4.9\n",
      "MM LVL4 wet  109.5 ± 6.3\n",
      "MM LVL5      105.0 ± 5.15\n",
      "MM LVL5 wet  123.5 ± 6.5\n"
     ]
    }
   ],
   "source": [
    "reload()\n",
    "\n",
    "def mm(L):\n",
    "    return base_mm(L, 1, 1, 1)\n",
    "def mm_wet(L):\n",
    "    return base_mm(L, 2, 1, 1)\n",
    "\n",
    "def base_mm(L, MULT_LIGHTNING, MULT_RADIANT, MULT_THUNDER):\n",
    "    N = L+3\n",
    "    A = roll(N, 4)+N    # base damage with evocation 20 INT, FORCE\n",
    "    B = roll(N, 4)        # shriek with evocation 20 INT, THUNDER\n",
    "    C = 2*N + 2*N  # glow ring for base and shriek, RADIANT \n",
    "    D = 2*(N-2)    # lightning charge +1 damage for every source except the first two, LIGHTNING \n",
    "    E = roll(1, 8)+1 + 1  # lightning stacks cause d8+1 and another +1 after shriek, LIGHTNING\n",
    "    F = roll(1, 4)      # shriek d4 from the lightning, THUNDER\n",
    "    G = 2 + 2      # glow ring for the lightning d8 and shriek d4 RADIANT\n",
    "\n",
    "    # apply multipliers\n",
    "    B = MULT_THUNDER*B\n",
    "    C = MULT_RADIANT*C\n",
    "    D = MULT_LIGHTNING*D\n",
    "    E = MULT_LIGHTNING*E\n",
    "    F = MULT_THUNDER*F\n",
    "    G = MULT_RADIANT*G\n",
    "\n",
    "    return A+B+C+D+E+F+G\n",
    "\n",
    "for lvl in range(1, 6):\n",
    "    output(mm(lvl),     f'MM LVL{lvl}     ', show_pdf=False)\n",
    "    output(mm_wet(lvl), f'MM LVL{lvl} wet ', show_pdf=False)"
   ]
  },
  {
   "cell_type": "code",
   "execution_count": 154,
   "metadata": {},
   "outputs": [
    {
     "name": "stdout",
     "output_type": "stream",
     "text": [
      "657800\n"
     ]
    }
   ],
   "source": [
    "reload()\n",
    "1@roll(7, 20)\n",
    "print(randvar.COUNT)\n"
   ]
  },
  {
   "cell_type": "code",
   "execution_count": 50,
   "metadata": {},
   "outputs": [],
   "source": [
    "import randvar; importlib.reload(randvar)\n",
    "from randvar import Seq\n",
    "\n",
    "dice([d('3d4'), [1, 2], [1, 2], [1]])\n",
    "\n",
    "fudge = dice(range(-1, 2))\n",
    "abs(d('d6') - 3)\n",
    "\n"
   ]
  }
 ],
 "metadata": {
  "kernelspec": {
   "display_name": "base",
   "language": "python",
   "name": "python3"
  },
  "language_info": {
   "codemirror_mode": {
    "name": "ipython",
    "version": 3
   },
   "file_extension": ".py",
   "mimetype": "text/x-python",
   "name": "python",
   "nbconvert_exporter": "python",
   "pygments_lexer": "ipython3",
   "version": "3.11.4"
  }
 },
 "nbformat": 4,
 "nbformat_minor": 2
}
