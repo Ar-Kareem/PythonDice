{
 "cells": [
  {
   "cell_type": "markdown",
   "metadata": {},
   "source": [
    "# RV calculator"
   ]
  },
  {
   "cell_type": "markdown",
   "metadata": {},
   "source": [
    "This is a clone of the language and capabilities of anydice.com but using the python language"
   ]
  },
  {
   "cell_type": "code",
   "execution_count": 1,
   "metadata": {},
   "outputs": [],
   "source": [
    "import importlib\n",
    "import math\n",
    "\n",
    "import utils\n",
    "import randvar\n",
    "import funclib\n",
    "import altcast\n",
    "from randvar import RV, Seq, roll, output\n",
    "from altcast import D as d\n",
    "\n",
    "def reload():\n",
    "    global RV, Seq, roll, output, d\n",
    "    importlib.reload(utils)\n",
    "    importlib.reload(randvar)\n",
    "    importlib.reload(funclib)\n",
    "    importlib.reload(altcast)\n",
    "    from randvar import RV, Seq, roll, output\n",
    "    from altcast import D as d\n"
   ]
  },
  {
   "cell_type": "code",
   "execution_count": 33,
   "metadata": {},
   "outputs": [],
   "source": [
    "reload()\n",
    "\n",
    "# ----------------------------------------------------------------------------------------------------------------------------------------------------------------\n",
    "# TEST ALT CAST\n",
    "3+(d*6)\n",
    "(d*6)+3\n",
    "3-(d*6)\n",
    "(d*6)-3\n",
    "3*(d*6)\n",
    "(d*6)*3\n",
    "(d*6)/3\n",
    "3/(d*6)\n",
    "(d*6)//3\n",
    "3//(d*6)\n",
    "(d*6)**3\n",
    "3**(d*6)\n",
    "(d*6)%3\n",
    "3%(d*6)\n",
    "\n",
    "assert not (d*2) == (d*2)\n",
    "assert (d*1) == (d*1)\n",
    "assert not (d*2) != (d*2)\n",
    "assert not (d*1) != (d*1)\n",
    "assert (d*2) != roll([3, 4])\n",
    "\n",
    "assert (d*6)*12 >= (d*6)*2\n",
    "assert not (d*6)*11 >= (d*6)*2\n",
    "assert (d*6)*13 > (d*6)*2\n",
    "assert not (d*6)*12 > (d*6)*2\n",
    "\n",
    "assert (d*6)*2 <= (d*6)*12\n",
    "assert not (d*6)*2 <= (d*6)*11\n",
    "assert (d*6)*2 < (d*6)*13\n",
    "assert not (d*6)*2 < (d*6)*12\n",
    "\n",
    "assert RV.dices_are_equal(5*d*(d*4), roll(5, roll(4)))\n",
    "\n",
    "+(d*6)\n",
    "-(d*6)\n",
    "abs((d*6))\n",
    "round((d*6))\n",
    "math.ceil((d*6))\n",
    "math.floor((d*6))\n",
    "math.trunc((d*6))\n"
   ]
  },
  {
   "cell_type": "code",
   "execution_count": 27,
   "metadata": {},
   "outputs": [
    {
     "data": {
      "text/plain": [
       "(1, 2)"
      ]
     },
     "execution_count": 27,
     "metadata": {},
     "output_type": "execute_result"
    }
   ],
   "source": [
    "reload()\n",
    "Seq(Seq(4))\n",
    "a = Seq(4.2,)\n",
    "Seq(a)\n"
   ]
  },
  {
   "cell_type": "code",
   "execution_count": 21,
   "metadata": {},
   "outputs": [
    {
     "ename": "TypeError",
     "evalue": "unsupported operand type(s) for @: 'RV' and 'RV'",
     "output_type": "error",
     "traceback": [
      "\u001b[1;31m---------------------------------------------------------------------------\u001b[0m",
      "\u001b[1;31mTypeError\u001b[0m                                 Traceback (most recent call last)",
      "Cell \u001b[1;32mIn[21], line 3\u001b[0m\n\u001b[0;32m      1\u001b[0m \u001b[38;5;241m3\u001b[39m \u001b[38;5;241m@\u001b[39m roll(\u001b[38;5;241m4\u001b[39m, \u001b[38;5;241m4\u001b[39m)\n\u001b[0;32m      2\u001b[0m Seq(\u001b[38;5;241m2\u001b[39m, \u001b[38;5;241m3\u001b[39m) \u001b[38;5;241m@\u001b[39m roll(\u001b[38;5;241m4\u001b[39m, \u001b[38;5;241m4\u001b[39m)\n\u001b[1;32m----> 3\u001b[0m \u001b[43mroll\u001b[49m\u001b[43m(\u001b[49m\u001b[38;5;241;43m2\u001b[39;49m\u001b[43m,\u001b[49m\u001b[43m \u001b[49m\u001b[38;5;241;43m2\u001b[39;49m\u001b[43m)\u001b[49m\u001b[43m \u001b[49m\u001b[38;5;241;43m@\u001b[39;49m\u001b[43m \u001b[49m\u001b[43mroll\u001b[49m\u001b[43m(\u001b[49m\u001b[38;5;241;43m4\u001b[39;49m\u001b[43m,\u001b[49m\u001b[43m \u001b[49m\u001b[38;5;241;43m4\u001b[39;49m\u001b[43m)\u001b[49m\n",
      "\u001b[1;31mTypeError\u001b[0m: unsupported operand type(s) for @: 'RV' and 'RV'"
     ]
    }
   ],
   "source": [
    "3 @ roll(4, 4)\n",
    "Seq(2, 3) @ roll(4, 4)\n",
    "roll(2, 2) @ roll(4, 4)"
   ]
  },
  {
   "cell_type": "code",
   "execution_count": 10,
   "metadata": {},
   "outputs": [
    {
     "data": {
      "text/plain": [
       "0.5 ± 0.65\n",
       "0: 57.87  ██████████████████████████████████████████████████████████████████████████████████████████████████\n",
       "1: 34.72  ███████████████████████████████████████████████████████████\n",
       "2: 6.94  ████████████\n",
       "3: 0.46  █\n",
       "--------------------------------------------------------------------------------------------------------------------------------------------------------------------------"
      ]
     },
     "execution_count": 10,
     "metadata": {},
     "output_type": "execute_result"
    }
   ],
   "source": [
    "from funclib import count_in\n",
    "\n",
    "count_in(3, roll(3, 6))"
   ]
  },
  {
   "cell_type": "code",
   "execution_count": 39,
   "metadata": {},
   "outputs": [
    {
     "data": {
      "text/plain": [
       "False"
      ]
     },
     "execution_count": 39,
     "metadata": {},
     "output_type": "execute_result"
    }
   ],
   "source": [
    "reload()\n",
    "\n",
    "a = RV((1, 2, 777), (5, 5, 0))\n",
    "b = roll(2)\n",
    "RV.dices_are_equal(a, b) == True\n"
   ]
  },
  {
   "cell_type": "markdown",
   "metadata": {},
   "source": [
    "## magic missle test"
   ]
  },
  {
   "cell_type": "markdown",
   "metadata": {},
   "source": [
    "This is a demonstration to calculate the damage done in a certain build in baldurs gate 3"
   ]
  },
  {
   "cell_type": "code",
   "execution_count": 7,
   "metadata": {},
   "outputs": [
    {
     "name": "stdout",
     "output_type": "stream",
     "text": [
      "MM LVL1      57.0 ± 4.06\n",
      "MM LVL1 wet  67.5 ± 5.68\n",
      "MM LVL2      69.0 ± 4.36\n",
      "MM LVL2 wet  81.5 ± 5.89\n",
      "MM LVL3      81.0 ± 4.64\n",
      "MM LVL3 wet  95.5 ± 6.1\n",
      "MM LVL4      93.0 ± 4.9\n",
      "MM LVL4 wet  109.5 ± 6.3\n",
      "MM LVL5      105.0 ± 5.15\n",
      "MM LVL5 wet  123.5 ± 6.5\n"
     ]
    }
   ],
   "source": [
    "reload()\n",
    "\n",
    "def mm(L):\n",
    "    return base_mm(L, 1, 1, 1)\n",
    "def mm_wet(L):\n",
    "    return base_mm(L, 2, 1, 1)\n",
    "\n",
    "def base_mm(L, MULT_LIGHTNING, MULT_RADIANT, MULT_THUNDER):\n",
    "    N = L+3\n",
    "    A = roll(N, 4)+N    # base damage with evocation 20 INT, FORCE\n",
    "    B = roll(N, 4)        # shriek with evocation 20 INT, THUNDER\n",
    "    C = 2*N + 2*N  # glow ring for base and shriek, RADIANT \n",
    "    D = 2*(N-2)    # lightning charge +1 damage for every source except the first two, LIGHTNING \n",
    "    E = roll(1, 8)+1 + 1  # lightning stacks cause d8+1 and another +1 after shriek, LIGHTNING\n",
    "    F = roll(1, 4)      # shriek d4 from the lightning, THUNDER\n",
    "    G = 2 + 2      # glow ring for the lightning d8 and shriek d4 RADIANT\n",
    "\n",
    "    # apply multipliers\n",
    "    B = MULT_THUNDER*B\n",
    "    C = MULT_RADIANT*C\n",
    "    D = MULT_LIGHTNING*D\n",
    "    E = MULT_LIGHTNING*E\n",
    "    F = MULT_THUNDER*F\n",
    "    G = MULT_RADIANT*G\n",
    "\n",
    "    return A+B+C+D+E+F+G\n",
    "\n",
    "for lvl in range(1, 6):\n",
    "    output(mm(lvl),     f'MM LVL{lvl}     ', show_pdf=False)\n",
    "    output(mm_wet(lvl), f'MM LVL{lvl} wet ', show_pdf=False)"
   ]
  },
  {
   "cell_type": "code",
   "execution_count": 17,
   "metadata": {},
   "outputs": [],
   "source": []
  },
  {
   "cell_type": "code",
   "execution_count": 11,
   "metadata": {},
   "outputs": [
    {
     "name": "stdout",
     "output_type": "stream",
     "text": [
      "pre expand\n",
      "post expand\n",
      "pre rolls 177100\n"
     ]
    },
    {
     "data": {
      "text/plain": [
       "0"
      ]
     },
     "execution_count": 11,
     "metadata": {},
     "output_type": "execute_result"
    }
   ],
   "source": [
    "reload()\n",
    "\n",
    "1@roll(6, 20)\n",
    "# print(randvar)\n",
    "0"
   ]
  },
  {
   "cell_type": "code",
   "execution_count": 9,
   "metadata": {},
   "outputs": [
    {
     "data": {
      "text/plain": [
       "1.5 ± 0.96\n",
       "0: 16.67  ████████████████████████████\n",
       "1: 33.33  █████████████████████████████████████████████████████████\n",
       "2: 33.33  █████████████████████████████████████████████████████████\n",
       "3: 16.67  ████████████████████████████\n",
       "--------------------------------------------------------------------------------------------------------------------------------------------------------------------------"
      ]
     },
     "execution_count": 9,
     "metadata": {},
     "output_type": "execute_result"
    }
   ],
   "source": [
    "import randvar; importlib.reload(randvar)\n",
    "from randvar import Seq\n",
    "\n",
    "roll([d('3d4'), [1, 2], [1, 2], [1]])\n",
    "\n",
    "fudge = roll(range(-1, 2))\n",
    "abs(d('d6') - 3)\n",
    "\n"
   ]
  }
 ],
 "metadata": {
  "kernelspec": {
   "display_name": "base",
   "language": "python",
   "name": "python3"
  },
  "language_info": {
   "codemirror_mode": {
    "name": "ipython",
    "version": 3
   },
   "file_extension": ".py",
   "mimetype": "text/x-python",
   "name": "python",
   "nbconvert_exporter": "python",
   "pygments_lexer": "ipython3",
   "version": "3.11.4"
  }
 },
 "nbformat": 4,
 "nbformat_minor": 2
}
