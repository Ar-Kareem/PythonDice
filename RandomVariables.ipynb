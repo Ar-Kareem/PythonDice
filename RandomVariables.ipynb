{
 "cells": [
  {
   "cell_type": "markdown",
   "metadata": {},
   "source": [
    "# RV calculator"
   ]
  },
  {
   "cell_type": "markdown",
   "metadata": {},
   "source": [
    "This is a clone of the language and capabilities of anydice.com but using the python language"
   ]
  },
  {
   "cell_type": "code",
   "execution_count": 14,
   "metadata": {
    "notebookRunGroups": {
     "groupValue": "1"
    }
   },
   "outputs": [],
   "source": [
    "import importlib\n",
    "import math\n",
    "\n",
    "import utils\n",
    "import randvar\n",
    "import funclib\n",
    "import altcast\n",
    "from randvar import RV, Seq, roll, output, anydice_casting\n",
    "from altcast import D as d\n",
    "\n",
    "def reload():\n",
    "    global RV, Seq, roll, output, anydice_casting\n",
    "    importlib.reload(utils)\n",
    "    importlib.reload(randvar)\n",
    "    importlib.reload(funclib)\n",
    "    importlib.reload(altcast)\n",
    "    from randvar import RV, Seq, roll, output ,anydice_casting\n",
    "    from altcast import D as d\n"
   ]
  },
  {
   "cell_type": "code",
   "execution_count": 2,
   "metadata": {},
   "outputs": [
    {
     "data": {
      "text/plain": [
       "3.5 ± 1.71\n",
       "1: 16.67  ████████████████████████████\n",
       "2: 16.67  ████████████████████████████\n",
       "3: 16.67  ████████████████████████████\n",
       "4: 16.67  ████████████████████████████\n",
       "5: 16.67  ████████████████████████████\n",
       "6: 16.67  ████████████████████████████\n",
       "--------------------------------------------------------------------------------------------------------------------------------------------------------------------------"
      ]
     },
     "execution_count": 2,
     "metadata": {},
     "output_type": "execute_result"
    }
   ],
   "source": [
    "reload()\n",
    "\n",
    "# ----------------------------------------------------------------------------------------------------------------------------------------------------------------\n",
    "# TEST ALT CAST\n",
    "3+(d*6)\n",
    "(d*6)+3\n",
    "3-(d*6)\n",
    "(d*6)-3\n",
    "3*(d*6)\n",
    "(d*6)*3\n",
    "(d*6)/3\n",
    "3/(d*6)\n",
    "(d*6)//3\n",
    "3//(d*6)\n",
    "(d*6)**3\n",
    "3**(d*6)\n",
    "(d*6)%3\n",
    "3%(d*6)\n",
    "\n",
    "assert not (d*2) == (d*2)\n",
    "assert (d*1) == (d*1)\n",
    "assert not (d*2) != (d*2)\n",
    "assert not (d*1) != (d*1)\n",
    "assert (d*2) != roll([3, 4])\n",
    "\n",
    "assert (d*6)*12 >= (d*6)*2\n",
    "assert not (d*6)*11 >= (d*6)*2\n",
    "assert (d*6)*13 > (d*6)*2\n",
    "assert not (d*6)*12 > (d*6)*2\n",
    "\n",
    "assert (d*6)*2 <= (d*6)*12\n",
    "assert not (d*6)*2 <= (d*6)*11\n",
    "assert (d*6)*2 < (d*6)*13\n",
    "assert not (d*6)*2 < (d*6)*12\n",
    "\n",
    "assert RV.dices_are_equal(5*d*(d*4), roll(5, roll(4)))\n",
    "\n",
    "+(d*6)\n",
    "-(d*6)\n",
    "abs((d*6))\n",
    "round((d*6))\n",
    "math.ceil((d*6))\n",
    "math.floor((d*6))\n",
    "math.trunc((d*6))\n"
   ]
  },
  {
   "cell_type": "code",
   "execution_count": 92,
   "metadata": {},
   "outputs": [
    {
     "data": {
      "text/plain": [
       "(4.2,)"
      ]
     },
     "execution_count": 92,
     "metadata": {},
     "output_type": "execute_result"
    }
   ],
   "source": [
    "reload()\n",
    "Seq(Seq(4))\n",
    "a = Seq(4.2,)\n",
    "Seq(a)\n"
   ]
  },
  {
   "cell_type": "code",
   "execution_count": 21,
   "metadata": {},
   "outputs": [
    {
     "ename": "TypeError",
     "evalue": "unsupported operand type(s) for @: 'RV' and 'RV'",
     "output_type": "error",
     "traceback": [
      "\u001b[1;31m---------------------------------------------------------------------------\u001b[0m",
      "\u001b[1;31mTypeError\u001b[0m                                 Traceback (most recent call last)",
      "Cell \u001b[1;32mIn[21], line 3\u001b[0m\n\u001b[0;32m      1\u001b[0m \u001b[38;5;241m3\u001b[39m \u001b[38;5;241m@\u001b[39m roll(\u001b[38;5;241m4\u001b[39m, \u001b[38;5;241m4\u001b[39m)\n\u001b[0;32m      2\u001b[0m Seq(\u001b[38;5;241m2\u001b[39m, \u001b[38;5;241m3\u001b[39m) \u001b[38;5;241m@\u001b[39m roll(\u001b[38;5;241m4\u001b[39m, \u001b[38;5;241m4\u001b[39m)\n\u001b[1;32m----> 3\u001b[0m \u001b[43mroll\u001b[49m\u001b[43m(\u001b[49m\u001b[38;5;241;43m2\u001b[39;49m\u001b[43m,\u001b[49m\u001b[43m \u001b[49m\u001b[38;5;241;43m2\u001b[39;49m\u001b[43m)\u001b[49m\u001b[43m \u001b[49m\u001b[38;5;241;43m@\u001b[39;49m\u001b[43m \u001b[49m\u001b[43mroll\u001b[49m\u001b[43m(\u001b[49m\u001b[38;5;241;43m4\u001b[39;49m\u001b[43m,\u001b[49m\u001b[43m \u001b[49m\u001b[38;5;241;43m4\u001b[39;49m\u001b[43m)\u001b[49m\n",
      "\u001b[1;31mTypeError\u001b[0m: unsupported operand type(s) for @: 'RV' and 'RV'"
     ]
    }
   ],
   "source": [
    "3 @ roll(4, 4)\n",
    "Seq(2, 3) @ roll(4, 4)\n",
    "roll(2, 2) @ roll(4, 4)"
   ]
  },
  {
   "cell_type": "markdown",
   "metadata": {},
   "source": [
    "## magic missle test"
   ]
  },
  {
   "cell_type": "markdown",
   "metadata": {},
   "source": [
    "This is a demonstration to calculate the damage done in a certain build in baldurs gate 3"
   ]
  },
  {
   "cell_type": "code",
   "execution_count": 7,
   "metadata": {},
   "outputs": [
    {
     "name": "stdout",
     "output_type": "stream",
     "text": [
      "MM LVL1      57.0 ± 4.06\n",
      "MM LVL1 wet  67.5 ± 5.68\n",
      "MM LVL2      69.0 ± 4.36\n",
      "MM LVL2 wet  81.5 ± 5.89\n",
      "MM LVL3      81.0 ± 4.64\n",
      "MM LVL3 wet  95.5 ± 6.1\n",
      "MM LVL4      93.0 ± 4.9\n",
      "MM LVL4 wet  109.5 ± 6.3\n",
      "MM LVL5      105.0 ± 5.15\n",
      "MM LVL5 wet  123.5 ± 6.5\n"
     ]
    }
   ],
   "source": [
    "reload()\n",
    "\n",
    "def mm(L):\n",
    "    return base_mm(L, 1, 1, 1)\n",
    "def mm_wet(L):\n",
    "    return base_mm(L, 2, 1, 1)\n",
    "\n",
    "def base_mm(L, MULT_LIGHTNING, MULT_RADIANT, MULT_THUNDER):\n",
    "    N = L+3\n",
    "    A = roll(N, 4)+N    # base damage with evocation 20 INT, FORCE\n",
    "    B = roll(N, 4)        # shriek with evocation 20 INT, THUNDER\n",
    "    C = 2*N + 2*N  # glow ring for base and shriek, RADIANT \n",
    "    D = 2*(N-2)    # lightning charge +1 damage for every source except the first two, LIGHTNING \n",
    "    E = roll(1, 8)+1 + 1  # lightning stacks cause d8+1 and another +1 after shriek, LIGHTNING\n",
    "    F = roll(1, 4)      # shriek d4 from the lightning, THUNDER\n",
    "    G = 2 + 2      # glow ring for the lightning d8 and shriek d4 RADIANT\n",
    "\n",
    "    # apply multipliers\n",
    "    B = MULT_THUNDER*B\n",
    "    C = MULT_RADIANT*C\n",
    "    D = MULT_LIGHTNING*D\n",
    "    E = MULT_LIGHTNING*E\n",
    "    F = MULT_THUNDER*F\n",
    "    G = MULT_RADIANT*G\n",
    "\n",
    "    return A+B+C+D+E+F+G\n",
    "\n",
    "for lvl in range(1, 6):\n",
    "    output(mm(lvl),     f'MM LVL{lvl}     ', show_pdf=False)\n",
    "    output(mm_wet(lvl), f'MM LVL{lvl} wet ', show_pdf=False)"
   ]
  },
  {
   "cell_type": "markdown",
   "metadata": {},
   "source": [
    "# other"
   ]
  },
  {
   "cell_type": "code",
   "execution_count": 11,
   "metadata": {},
   "outputs": [
    {
     "name": "stdout",
     "output_type": "stream",
     "text": [
      "pre expand\n",
      "post expand\n",
      "pre rolls 177100\n"
     ]
    },
    {
     "data": {
      "text/plain": [
       "0"
      ]
     },
     "execution_count": 11,
     "metadata": {},
     "output_type": "execute_result"
    }
   ],
   "source": [
    "reload()\n",
    "\n",
    "1@roll(6, 20)\n",
    "# print(randvar)\n",
    "0"
   ]
  },
  {
   "cell_type": "code",
   "execution_count": 31,
   "metadata": {},
   "outputs": [],
   "source": [
    "def dummy_decorator(verbose=False):\n",
    "  def decorator(func):\n",
    "    def wrapper(*args, **kwargs):\n",
    "      args, kwargs = list(args), dict(kwargs)\n",
    "      for _ in range(100_000):\n",
    "        val = func(*args, **kwargs)  # single result of the function call\n",
    "      return None\n",
    "    return wrapper\n",
    "  return decorator\n"
   ]
  },
  {
   "cell_type": "code",
   "execution_count": null,
   "metadata": {},
   "outputs": [],
   "source": [
    "roll(20, 10).get_vals_probs(.01)"
   ]
  },
  {
   "cell_type": "code",
   "execution_count": 58,
   "metadata": {},
   "outputs": [
    {
     "data": {
      "text/plain": [
       "1.5 ± 0.96\n",
       "0: 16.67  ████████████████████████████\n",
       "1: 33.33  ████████████████████████████████████████████████████████\n",
       "2: 33.33  ████████████████████████████████████████████████████████\n",
       "3: 16.67  ████████████████████████████\n",
       "--------------------------------------------------------------------------------------------------------------------------------------------------------------------------"
      ]
     },
     "execution_count": 58,
     "metadata": {},
     "output_type": "execute_result"
    }
   ],
   "source": [
    "import randvar; importlib.reload(randvar)\n",
    "from randvar import Seq\n",
    "\n",
    "roll([roll('3d4'), [1, 2], [1, 2], [1]])\n",
    "\n",
    "fudge = roll(range(-1, 2))\n",
    "abs(roll('d6') - 3)\n",
    "\n"
   ]
  },
  {
   "cell_type": "code",
   "execution_count": 79,
   "metadata": {},
   "outputs": [
    {
     "name": "stdout",
     "output_type": "stream",
     "text": [
      "11.0 ± 1.58\n",
      " 8: 6.25  ██████████\n",
      " 9: 12.50  █████████████████████\n",
      "10: 18.75  ████████████████████████████████\n",
      "11: 25.00  ██████████████████████████████████████████\n",
      "12: 18.75  ████████████████████████████████\n",
      "13: 12.50  █████████████████████\n",
      "14: 6.25  ██████████\n",
      "----------------------------------------------------------------------------------------------------------------------------------------------------------------------------------\n"
     ]
    },
    {
     "data": {
      "text/plain": [
       "16.5 ± 1.94\n",
       "12: 1.56  ███\n",
       "13: 4.69  ████████\n",
       "14: 9.38  ████████████████\n",
       "15: 15.62  ██████████████████████████\n",
       "16: 18.75  ████████████████████████████████\n",
       "17: 18.75  ████████████████████████████████\n",
       "18: 15.62  ██████████████████████████\n",
       "19: 9.38  ████████████████\n",
       "20: 4.69  ████████\n",
       "21: 1.56  ███\n",
       "----------------------------------------------------------------------------------------------------------------------------------------------------------------------------------"
      ]
     },
     "execution_count": 79,
     "metadata": {},
     "output_type": "execute_result"
    }
   ],
   "source": [
    "reload()\n",
    "# TODO add to tests, rerolling before x\n",
    "from randvar import anydice_casting\n",
    "\n",
    "@anydice_casting()\n",
    "def reroll(A:int, B:int, C:int, _depth=10) -> int|None:\n",
    "    if A <= B and _depth > 0:\n",
    "        A = reroll(roll(C), B, C, _depth-1)\n",
    "    else:\n",
    "        return A \n",
    "\n",
    "@anydice_casting()\n",
    "def greatweaponmaster(A:int, B:int, C:int):\n",
    "    X = 0\n",
    "    for N in range(1, B+1):\n",
    "        X = X + reroll(roll(A), C, A)\n",
    "    return X\n",
    "\n",
    "\n",
    "a = greatweaponmaster(6, 2, 2) + 2\n",
    "# output(a)\n",
    "# 8\t6.25\t\n",
    "# 9\t12.50\t\n",
    "# 10\t18.75\t\n",
    "# 11\t25.00\t\n",
    "# 12\t18.75\t\n",
    "# 13\t12.50\t\n",
    "# 14\t6.25\t\n",
    "a = greatweaponmaster(6, 3, 2) + 3\n",
    "a\n",
    "# 12\t1.56\t\n",
    "# 13\t4.69\t\n",
    "# 14\t9.38\t\n",
    "# 15\t15.63\t\n",
    "# 16\t18.75\t\n",
    "# 17\t18.75\t\n",
    "# 18\t15.63\t\n",
    "# 19\t9.38\t\n",
    "# 20\t4.69\t\n",
    "# 21\t1.56"
   ]
  },
  {
   "cell_type": "code",
   "execution_count": 24,
   "metadata": {},
   "outputs": [],
   "source": [
    "# TODO add to tests, gwf\n",
    "\n",
    "# function: reroll DIE:d if under LIMIT:n {\n",
    "#   result: [reroll DIE as DIE if under LIMIT]\n",
    "# }\n",
    "# function: reroll ROLL:n as DIE:d if under LIMIT:n {\n",
    "#   if ROLL < LIMIT { result: DIE }\n",
    "#   else { result: ROLL }\n",
    "# }\n",
    "\n",
    "# loop SIDES over {4,6,8,12,20} {\n",
    "#   output [reroll dSIDES if under 3] named \"d[SIDES] with GWF\"\n",
    "# }\n",
    "\n",
    "from funclib import gwf\n",
    "\n",
    "@anydice_casting()\n",
    "def reroll_if_under(DIE:RV, LIMIT:int):\n",
    "    return reroll_as_if_under(DIE, DIE, LIMIT)\n",
    "\n",
    "@anydice_casting()\n",
    "def reroll_as_if_under(ROLL:int, DIE:RV, LIMIT:int):\n",
    "    if ROLL < LIMIT: \n",
    "        return DIE\n",
    "    else:\n",
    "        return ROLL\n",
    "\n",
    "for SIDES in Seq(4,6,8,12,20):\n",
    "    ans = reroll_if_under(roll(SIDES), 3)\n",
    "    # output(ans, named=f\"d{SIDES} with GWF\")\n",
    "    assert RV.dices_are_equal(ans, gwf(1, SIDES, 2))"
   ]
  },
  {
   "cell_type": "code",
   "execution_count": 21,
   "metadata": {},
   "outputs": [
    {
     "data": {
      "text/plain": [
       "0.82 ± 0.38\n",
       "0: 17.87  ██████████████████████████████\n",
       "1: 82.13  ████████████████████████████████████████████████████████████████████████████████████████████████████████████████████████████████████████████\n",
       "--------------------------------------------------------------------------------------------------------------------------------------------------------------------------"
      ]
     },
     "execution_count": 21,
     "metadata": {},
     "output_type": "execute_result"
    }
   ],
   "source": [
    "reload()\n",
    "@anydice_casting()\n",
    "def total_before_roll_1(roll:int, die:RV, cur:int=0, total:int=10, max_depth:int=10):\n",
    "    if roll == 1:\n",
    "        return 0\n",
    "    cur += roll\n",
    "    if cur >= total:\n",
    "        return 1\n",
    "    else:\n",
    "        if max_depth == 1:\n",
    "            return -999\n",
    "        return total_before_roll_1(die, die, cur, total, max_depth-1)\n",
    "\n",
    "total_before_roll_1(roll(20), roll(20), total=35, max_depth=5).filter(-999)\n"
   ]
  },
  {
   "cell_type": "code",
   "execution_count": 20,
   "metadata": {},
   "outputs": [],
   "source": [
    "reload()\n",
    "@anydice_casting()\n",
    "def roll_xmore_before_yless(roll:int, die:RV, low:int, high:int, max_depth:int=10):\n",
    "    if roll >= high:\n",
    "        return 1\n",
    "    if roll <= low:\n",
    "        return 0\n",
    "    if max_depth == 1:\n",
    "        return -999\n",
    "    return roll_xmore_before_yless(die, die, low, high, max_depth-1)\n",
    "\n",
    "a = roll_xmore_before_yless(roll(20), roll(20), 1, 10, max_depth=3).filter(-999)\n",
    "assert RV.dices_are_equal(a, RV((0, 1), (1, 11)))"
   ]
  },
  {
   "cell_type": "code",
   "execution_count": null,
   "metadata": {},
   "outputs": [],
   "source": [
    "function: balanced RANK:n from FIVE:s {\n",
    " SIXTH: 72 - FIVE\n",
    " if SIXTH < 3 | SIXTH > 18 {\n",
    "  result: d{}\n",
    " }\n",
    " result: RANK @ [sort {FIVE, SIXTH}]\n",
    "}\n",
    "\n",
    "loop RANK over {1..6} {\n",
    " output [balanced RANK from 5d[highest 3 of 4d6]]\n",
    "}"
   ]
  }
 ],
 "metadata": {
  "kernelspec": {
   "display_name": "base",
   "language": "python",
   "name": "python3"
  },
  "language_info": {
   "codemirror_mode": {
    "name": "ipython",
    "version": 3
   },
   "file_extension": ".py",
   "mimetype": "text/x-python",
   "name": "python",
   "nbconvert_exporter": "python",
   "pygments_lexer": "ipython3",
   "version": "3.11.4"
  }
 },
 "nbformat": 4,
 "nbformat_minor": 2
}
