{
 "cells": [
  {
   "cell_type": "markdown",
   "metadata": {},
   "source": [
    "# RV calculator"
   ]
  },
  {
   "cell_type": "markdown",
   "metadata": {},
   "source": [
    "This is a clone of the language and capabilities of anydice.com but using the python language"
   ]
  },
  {
   "cell_type": "code",
   "execution_count": 1,
   "metadata": {},
   "outputs": [],
   "source": [
    "import importlib\n",
    "import math\n",
    "\n",
    "import randvar\n",
    "from randvar import RV, Seq, d, dice, roll, show_summary\n",
    "\n",
    "def reload():\n",
    "    global randvar, RV, Seq, d, dice, roll, show_summary\n",
    "    importlib.reload(randvar)\n",
    "    importlib.reload(randvar.utils)\n",
    "    from randvar import RV, Seq, d, dice, roll, show_summary\n"
   ]
  },
  {
   "cell_type": "code",
   "execution_count": 3,
   "metadata": {},
   "outputs": [],
   "source": [
    "reload()\n",
    "\n",
    "3+d('d6')\n",
    "d('d6')+3\n",
    "3-d('d6')\n",
    "d('d6')-3\n",
    "3*d('d6')\n",
    "d('d6')*3\n",
    "d('d6')/3\n",
    "3/d('d6')\n",
    "d('d6')//3\n",
    "3//d('d6')\n",
    "d('d6')**3\n",
    "3**d('d6')\n",
    "d('d6')%3\n",
    "3%d('d6')\n",
    "\n",
    "assert not d('d2') == d('d2')\n",
    "assert d('d1') == d('d1')\n",
    "assert not d('d2') != d('d2')\n",
    "assert not d('d1') != d('d1')\n",
    "assert d('d2') != dice([3, 4])\n",
    "\n",
    "assert d('d6')*12 >= d('d6')*2\n",
    "assert not d('d6')*11 >= d('d6')*2\n",
    "assert d('d6')*13 > d('d6')*2\n",
    "assert not d('d6')*12 > d('d6')*2\n",
    "\n",
    "assert d('d6')*2 <= d('d6')*12\n",
    "assert not d('d6')*2 <= d('d6')*11\n",
    "assert d('d6')*2 < d('d6')*13\n",
    "assert not d('d6')*2 < d('d6')*12\n",
    "\n",
    "+d('d6')\n",
    "-d('d6')\n",
    "abs(d('d6'))\n",
    "round(d('d6'))\n",
    "math.ceil(d('d6'))\n",
    "math.floor(d('d6'))\n",
    "math.trunc(d('d6'))\n",
    "\n",
    "# rolls of seqs\n",
    "a = dice(Seq(2, Seq(3, 2, dice(3))))\n",
    "assert a.vals == (1, 2, 3) and a.probs == (1, 3, 2)\n",
    "a = roll(2, roll(2, 2))\n",
    "assert a.vals == (4, 5, 6, 7, 8) and a.probs == (1, 4, 6, 4, 1)\n",
    "a = roll(2, Seq(roll(2, 2)))\n",
    "assert a.vals == (4, 5, 6, 7, 8) and a.probs == (1, 2, 3, 2, 1)\n",
    "\n",
    "assert Seq(2)@Seq(1, 2, 3) == 2, '@ symbol for seqs'\n",
    "assert Seq(1, 2)@Seq(2, 3, 999, 999) == 5, '@ symbol for seqs'\n",
    "assert Seq(-1000, 2, 2, 1000)@Seq(2, 3, 4, 5) == 6, '@ symbol for seqs'\n",
    "\n",
    "a = Seq([1, 2, 5]) + roll(2, 6)\n",
    "assert (a.vals, a.probs) == (tuple(range(10, 21)), (1, 2, 3, 4, 5, 6, 5, 4, 3, 2, 1)), 'seq + roll'\n",
    "\n",
    "a = Seq([1, 2, 5]) > roll(2, 6)\n",
    "assert (a.vals, a.probs) == ((0, 1), (5, 7)), 'seq > roll'\n",
    "\n",
    "a = roll(2, 6) < Seq([1, 2, 5])\n",
    "assert (a.vals, a.probs) == ((0, 1), (5, 7)), 'roll < seq'\n",
    "\n",
    "assert Seq(1, 2) == Seq(1, 2), 'seq == seq'\n",
    "assert Seq(1, 2) != Seq(2, 1), 'seq != seq'\n",
    "assert Seq(1) != Seq(1, 1), 'seq != seq'\n",
    "assert Seq(1, 1) != Seq(1), 'seq != seq'\n",
    "assert Seq(2, 2) > Seq(1), 'seq > seq'\n",
    "assert not Seq(1, 2) > Seq(1), 'seq > seq'\n",
    "assert Seq(0, 1) < Seq(1, 2, 3), 'seq < seq'\n",
    "assert not Seq(1, 1) < Seq(1, 2, 3), 'seq < seq'\n",
    "assert Seq(1, 3) >= Seq(1, 2), 'seq >= seq'\n",
    "assert not Seq(1, 3) >= Seq(1, 2, 3), 'seq >= seq'\n",
    "assert Seq(1, 2) <= Seq(1, 2), 'seq <= seq'\n",
    "assert not Seq(1, 2, 3) <= Seq(1, 2), 'seq <= seq'\n",
    "\n",
    "assert Seq(1, 2) + 1 == 4, 'seq + num'\n",
    "assert Seq(1, 2) - 1 == 2, 'seq - num'\n",
    "assert Seq(1, 2) * 2 == 6, 'seq * num'\n",
    "assert Seq(1, 2) / 2 == 1.5, 'seq / num'\n",
    "assert Seq(1, 2) // 2 == 1, 'seq // num'\n",
    "assert Seq(1, 2) % 2 == 1, 'seq % num'\n",
    "assert Seq(1, 2) ** 2 == 9, 'seq ** num'\n",
    "\n",
    "assert 1 + Seq(1, 2) == 4, 'num + seq'\n",
    "assert 1 - Seq(1, 2) == -2, 'num - seq'\n",
    "assert 2 * Seq(1, 2) == 6, 'num * seq'\n",
    "assert 6 / Seq(1, 2) == 2, 'num / seq'\n",
    "assert 5 // Seq(1, 2) == 1, 'num // seq'\n",
    "assert 5 % Seq(1, 2) == 2, 'num % seq'\n",
    "assert 2 ** Seq(1, 2) == 8, 'num ** seq'\n",
    "\n",
    "assert Seq(1, 2) + Seq(1, 2) == 6, 'seq + seq'\n",
    "assert Seq(1, 2) - Seq(1, 2) == 0, 'seq - seq'\n",
    "assert Seq(1, 2) * Seq(1, 2) == 9, 'seq * seq'\n",
    "assert Seq(1, 2) / Seq(1, 2) == 1, 'seq / seq'\n",
    "assert Seq(1, 2) // Seq(1, 2) == 1, 'seq // seq'\n",
    "assert Seq(1, 2) % Seq(2) == 1, 'seq % seq'\n",
    "assert Seq(1, 2) ** Seq(2) == 9, 'seq ** seq'\n",
    "\n",
    "# TEST CASTING\n",
    "@randvar.cast_dice_to_seq()\n",
    "def count(VALUES:Seq, SEQUENCE:Seq, *args):\n",
    "    COUNT = 0\n",
    "    for P in range(1, len(VALUES)+1):\n",
    "        COUNT = COUNT + (P@VALUES == SEQUENCE)\n",
    "    return COUNT\n",
    "\n",
    "a = count(VALUES=roll(3, 2), SEQUENCE=roll(2, 2))\n",
    "b = count(roll(3, 2), SEQUENCE=roll(2, 2))\n",
    "c = count(roll(3, 2), roll(2, 2), 1, 1, 1)\n",
    "d = RV(vals=(0, 2, 3, 4, 6), probs=(1, 3, 8, 3, 1))  # manual\n",
    "assert RV.dices_are_equal(a, b) and RV.dices_are_equal(b, c) and RV.dices_are_equal(c, d), 'casting multiple dices to sequence'"
   ]
  },
  {
   "cell_type": "code",
   "execution_count": 219,
   "metadata": {},
   "outputs": [
    {
     "ename": "AttributeError",
     "evalue": "'RV' object has no attribute 'get_prob'",
     "output_type": "error",
     "traceback": [
      "\u001b[1;31m---------------------------------------------------------------------------\u001b[0m",
      "\u001b[1;31mAttributeError\u001b[0m                            Traceback (most recent call last)",
      "Cell \u001b[1;32mIn[219], line 2\u001b[0m\n\u001b[0;32m      1\u001b[0m reload()\n\u001b[1;32m----> 2\u001b[0m \u001b[43mroll\u001b[49m\u001b[43m(\u001b[49m\u001b[38;5;241;43m4\u001b[39;49m\u001b[43m,\u001b[49m\u001b[43m \u001b[49m\u001b[38;5;241;43m6\u001b[39;49m\u001b[43m)\u001b[49m\u001b[38;5;241;43m.\u001b[39;49m\u001b[43mget_prob\u001b[49m(high\u001b[38;5;241m=\u001b[39m\u001b[38;5;241m24\u001b[39m)\n",
      "\u001b[1;31mAttributeError\u001b[0m: 'RV' object has no attribute 'get_prob'"
     ]
    }
   ],
   "source": [
    "reload()\n",
    "roll(4, 6).get_prob(high=24)"
   ]
  },
  {
   "cell_type": "code",
   "execution_count": 7,
   "metadata": {},
   "outputs": [
    {
     "data": {
      "text/plain": [
       "FullArgSpec(args=['a', 'b', 'c', 'd'], varargs='args', varkw='kwargs', defaults=(1,), kwonlyargs=['e'], kwonlydefaults={'e': None}, annotations={'c': <class 'int'>, 'e': <class 'int'>})"
      ]
     },
     "execution_count": 7,
     "metadata": {},
     "output_type": "execute_result"
    }
   ],
   "source": [
    "import inspect\n",
    "def f(a, b, c:int, d=1, *args, e:int=None, **kwargs):\n",
    "    pass\n",
    "spec = inspect.getfullargspec(f).annotations  # dict of arg_name: arg_type\n",
    "inspect.getfullargspec(f)"
   ]
  },
  {
   "cell_type": "code",
   "execution_count": 132,
   "metadata": {},
   "outputs": [
    {
     "data": {
      "text/plain": [
       "['arg_1']"
      ]
     },
     "execution_count": 132,
     "metadata": {},
     "output_type": "execute_result"
    }
   ],
   "source": [
    "\n",
    "def my_func(arg_1:Seq, arg_2):\n",
    "    pass\n",
    "\n",
    "list(seq_params)"
   ]
  },
  {
   "cell_type": "markdown",
   "metadata": {},
   "source": [
    "## magic missle test"
   ]
  },
  {
   "cell_type": "markdown",
   "metadata": {},
   "source": [
    "This is a demonstration to calculate the damage done in a certain build in baldurs gate 3"
   ]
  },
  {
   "cell_type": "code",
   "execution_count": 209,
   "metadata": {},
   "outputs": [
    {
     "name": "stdout",
     "output_type": "stream",
     "text": [
      "MM LVL1      97 ± 4\n",
      "MM LVL1 wet  108 ± 6\n",
      "MM LVL2      119 ± 4\n",
      "MM LVL2 wet  132 ± 6\n",
      "MM LVL3      141 ± 5\n",
      "MM LVL3 wet  156 ± 6\n",
      "MM LVL4      163 ± 5\n",
      "MM LVL4 wet  180 ± 6\n",
      "MM LVL5      185 ± 5\n",
      "MM LVL5 wet  204 ± 6\n"
     ]
    }
   ],
   "source": [
    "def mm(L):\n",
    "    return base_mm(L, 1, 1, 1)\n",
    "def mm_wet(L):\n",
    "    return base_mm(L, 2, 1, 1)\n",
    "\n",
    "def base_mm(L, MULT_LIGHTNING, MULT_RADIANT, MULT_THUNDER):\n",
    "    N = L+3\n",
    "    A = roll(N, 4)+N + 5*N    # base damage with evocation 20 INT, FORCE\n",
    "    B = roll(N, 4) + 5*N        # shriek with evocation 20 INT, THUNDER\n",
    "    C = 2*N + 2*N  # glow ring for base and shriek, RADIANT \n",
    "    D = 2*(N-2)    # lightning charge +1 damage for every source except the first two, LIGHTNING \n",
    "    E = roll(1, 8)+1 + 1  # lightning stacks cause d8+1 and another +1 after shriek, LIGHTNING\n",
    "    F = roll(1, 4)      # shriek d4 from the lightning, THUNDER\n",
    "    G = 2 + 2      # glow ring for the lightning d8 and shriek d4 RADIANT\n",
    "\n",
    "    # apply multipliers\n",
    "    B = MULT_THUNDER*B\n",
    "    C = MULT_RADIANT*C\n",
    "    D = MULT_LIGHTNING*D\n",
    "    E = MULT_LIGHTNING*E\n",
    "    F = MULT_THUNDER*F\n",
    "    G = MULT_RADIANT*G\n",
    "\n",
    "    return A+B+C+D+E+F+G\n",
    "\n",
    "for lvl in range(1, 6):\n",
    "    show_summary(f'MM LVL{lvl}     ', mm(lvl))\n",
    "    show_summary(f'MM LVL{lvl} wet ', mm_wet(lvl))"
   ]
  },
  {
   "cell_type": "code",
   "execution_count": 5,
   "metadata": {},
   "outputs": [
    {
     "data": {
      "text/plain": [
       "mean: 0.50 std: 0.50 \n",
       "0: 50.0\n",
       "1: 50.0"
      ]
     },
     "execution_count": 5,
     "metadata": {},
     "output_type": "execute_result"
    }
   ],
   "source": [
    "\n",
    "d('d6') > 3"
   ]
  },
  {
   "cell_type": "code",
   "execution_count": 50,
   "metadata": {},
   "outputs": [],
   "source": [
    "import randvar; importlib.reload(randvar)\n",
    "from randvar import Seq\n",
    "\n",
    "dice([d('3d4'), [1, 2], [1, 2], [1]])\n",
    "\n",
    "fudge = dice(range(-1, 2))\n",
    "abs(d('d6') - 3)\n",
    "\n"
   ]
  }
 ],
 "metadata": {
  "kernelspec": {
   "display_name": "base",
   "language": "python",
   "name": "python3"
  },
  "language_info": {
   "codemirror_mode": {
    "name": "ipython",
    "version": 3
   },
   "file_extension": ".py",
   "mimetype": "text/x-python",
   "name": "python",
   "nbconvert_exporter": "python",
   "pygments_lexer": "ipython3",
   "version": "3.11.4"
  }
 },
 "nbformat": 4,
 "nbformat_minor": 2
}
