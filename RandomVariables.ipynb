{
 "cells": [
  {
   "cell_type": "markdown",
   "metadata": {},
   "source": [
    "# RV calculator"
   ]
  },
  {
   "cell_type": "markdown",
   "metadata": {},
   "source": [
    "This is a clone of the language and capabilities of anydice.com but using the python language"
   ]
  },
  {
   "cell_type": "code",
   "execution_count": 67,
   "metadata": {},
   "outputs": [],
   "source": [
    "import importlib\n",
    "import randomVariables\n",
    "importlib.reload(randomVariables)\n",
    "\n",
    "import math\n",
    "from randomVariables import RV, d, dice, roll, show_summary\n"
   ]
  },
  {
   "cell_type": "code",
   "execution_count": 63,
   "metadata": {},
   "outputs": [
    {
     "data": {
      "text/plain": [
       "mean: 3.50 std: 1.71 \n",
       "1: 16.67\n",
       "2: 16.67\n",
       "3: 16.67\n",
       "4: 16.67\n",
       "5: 16.67\n",
       "6: 16.67"
      ]
     },
     "execution_count": 63,
     "metadata": {},
     "output_type": "execute_result"
    }
   ],
   "source": [
    "3+d('d6')\n",
    "d('d6')+3\n",
    "3-d('d6')\n",
    "d('d6')-3\n",
    "3*d('d6')\n",
    "d('d6')*3\n",
    "d('d6')/3\n",
    "3/d('d6')\n",
    "d('d6')//3\n",
    "3//d('d6')\n",
    "d('d6')**3\n",
    "3**d('d6')\n",
    "d('d6')%3\n",
    "3%d('d6')\n",
    "\n",
    "assert not d('d2') == d('d2')\n",
    "assert d('d1') == d('d1')\n",
    "assert not d('d2') != d('d2')\n",
    "assert not d('d1') != d('d1')\n",
    "assert d('d2') != dice([3, 4])\n",
    "\n",
    "assert d('d6')*12 >= d('d6')*2\n",
    "assert not d('d6')*11 >= d('d6')*2\n",
    "assert d('d6')*13 > d('d6')*2\n",
    "assert not d('d6')*12 > d('d6')*2\n",
    "\n",
    "assert d('d6')*2 <= d('d6')*12\n",
    "assert not d('d6')*2 <= d('d6')*11\n",
    "assert d('d6')*2 < d('d6')*13\n",
    "assert not d('d6')*2 < d('d6')*12\n",
    "\n",
    "+d('d6')\n",
    "-d('d6')\n",
    "abs(d('d6'))\n",
    "round(d('d6'))\n",
    "math.ceil(d('d6'))\n",
    "math.floor(d('d6'))\n",
    "math.trunc(d('d6'))\n"
   ]
  },
  {
   "cell_type": "markdown",
   "metadata": {},
   "source": [
    "## magic missle test"
   ]
  },
  {
   "cell_type": "markdown",
   "metadata": {},
   "source": [
    "This is a demonstration to calculate the damage done in a certain build in baldurs gate 3"
   ]
  },
  {
   "cell_type": "code",
   "execution_count": 64,
   "metadata": {},
   "outputs": [
    {
     "name": "stdout",
     "output_type": "stream",
     "text": [
      "MM LVL1      97 ± 4\n",
      "MM LVL1 wet  108 ± 6\n",
      "MM LVL2      119 ± 4\n",
      "MM LVL2 wet  132 ± 6\n",
      "MM LVL3      141 ± 5\n",
      "MM LVL3 wet  156 ± 6\n",
      "MM LVL4      163 ± 5\n",
      "MM LVL4 wet  180 ± 6\n",
      "MM LVL5      185 ± 5\n",
      "MM LVL5 wet  204 ± 6\n"
     ]
    }
   ],
   "source": [
    "def mm(L):\n",
    "    return base_mm(L, 1, 1, 1)\n",
    "def mm_wet(L):\n",
    "    return base_mm(L, 2, 1, 1)\n",
    "\n",
    "def base_mm(L, MULT_LIGHTNING, MULT_RADIANT, MULT_THUNDER):\n",
    "    N = L+3\n",
    "    A = roll(N, 4)+N + 5*N    # base damage with evocation 20 INT, FORCE\n",
    "    B = roll(N, 4) + 5*N        # shriek with evocation 20 INT, THUNDER\n",
    "    C = 2*N + 2*N  # glow ring for base and shriek, RADIANT \n",
    "    D = 2*(N-2)    # lightning charge +1 damage for every source except the first two, LIGHTNING \n",
    "    E = roll(1, 8)+1 + 1  # lightning stacks cause d8+1 and another +1 after shriek, LIGHTNING\n",
    "    F = roll(1, 4)      # shriek d4 from the lightning, THUNDER\n",
    "    G = 2 + 2      # glow ring for the lightning d8 and shriek d4 RADIANT\n",
    "\n",
    "    # apply multipliers\n",
    "    B = MULT_THUNDER*B\n",
    "    C = MULT_RADIANT*C\n",
    "    D = MULT_LIGHTNING*D\n",
    "    E = MULT_LIGHTNING*E\n",
    "    F = MULT_THUNDER*F\n",
    "    G = MULT_RADIANT*G\n",
    "\n",
    "    return A+B+C+D+E+F+G\n",
    "\n",
    "for lvl in range(1, 6):\n",
    "    show_summary(f'MM LVL{lvl}     ', mm(lvl))\n",
    "    show_summary(f'MM LVL{lvl} wet ', mm_wet(lvl))"
   ]
  },
  {
   "cell_type": "code",
   "execution_count": 65,
   "metadata": {},
   "outputs": [
    {
     "data": {
      "text/plain": [
       "mean: 0.50 std: 0.50 \n",
       "0: 50.0\n",
       "1: 50.0"
      ]
     },
     "execution_count": 65,
     "metadata": {},
     "output_type": "execute_result"
    }
   ],
   "source": [
    "\n",
    "d('d6') > 3"
   ]
  },
  {
   "cell_type": "code",
   "execution_count": 79,
   "metadata": {},
   "outputs": [
    {
     "data": {
      "text/plain": [
       "mean: 1.50 std: 0.96 \n",
       "0: 16.67\n",
       "1: 33.33\n",
       "2: 33.33\n",
       "3: 16.67"
      ]
     },
     "execution_count": 79,
     "metadata": {},
     "output_type": "execute_result"
    }
   ],
   "source": [
    "import randomVariables; importlib.reload(randomVariables)\n",
    "\n",
    "dice([d('3d4'), [1, 2], [1, 2], [1]])\n",
    "\n",
    "fudge = dice(range(-1, 2))\n",
    "abs(d('d6') - 3)"
   ]
  }
 ],
 "metadata": {
  "kernelspec": {
   "display_name": "base",
   "language": "python",
   "name": "python3"
  },
  "language_info": {
   "codemirror_mode": {
    "name": "ipython",
    "version": 3
   },
   "file_extension": ".py",
   "mimetype": "text/x-python",
   "name": "python",
   "nbconvert_exporter": "python",
   "pygments_lexer": "ipython3",
   "version": "3.11.4"
  }
 },
 "nbformat": 4,
 "nbformat_minor": 2
}
