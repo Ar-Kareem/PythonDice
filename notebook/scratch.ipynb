{
 "cells": [
  {
   "cell_type": "markdown",
   "metadata": {},
   "source": [
    "# RV calculator"
   ]
  },
  {
   "cell_type": "markdown",
   "metadata": {},
   "source": [
    "This is a clone of the language and capabilities of anydice.com but using the python language"
   ]
  },
  {
   "cell_type": "code",
   "execution_count": 1,
   "metadata": {
    "notebookRunGroups": {
     "groupValue": "1"
    }
   },
   "outputs": [],
   "source": [
    "import importlib\n",
    "import math\n",
    "import numpy as np\n",
    "\n",
    "import dice_calc.utils as utils\n",
    "import dice_calc.randvar as randvar\n",
    "import dice_calc.funclib as funclib\n",
    "import dice_calc.altcast as altcast\n",
    "import dice_calc.parser.myparser as myparser\n",
    "import dice_calc.parser.example_parse as example_parse\n",
    "from dice_calc.randvar import RV, Seq, roll, output, anydice_casting\n",
    "from dice_calc.altcast import D as d\n",
    "\n",
    "def reload():\n",
    "    global RV, Seq, roll, output, anydice_casting\n",
    "    importlib.reload(utils)\n",
    "    importlib.reload(randvar)\n",
    "    importlib.reload(funclib)\n",
    "    importlib.reload(altcast)\n",
    "    # importlib.reload(parser)\n",
    "    importlib.reload(myparser)\n",
    "    importlib.reload(example_parse)\n",
    "    from dice_calc.randvar import RV, Seq, roll, output ,anydice_casting\n",
    "    from dice_calc.altcast import D as d\n",
    "\n"
   ]
  },
  {
   "cell_type": "code",
   "execution_count": 5,
   "metadata": {},
   "outputs": [
    {
     "ename": "NameError",
     "evalue": "name 'math' is not defined",
     "output_type": "error",
     "traceback": [
      "\u001b[1;31m---------------------------------------------------------------------------\u001b[0m",
      "\u001b[1;31mNameError\u001b[0m                                 Traceback (most recent call last)",
      "Cell \u001b[1;32mIn[5], line 1\u001b[0m\n\u001b[1;32m----> 1\u001b[0m \u001b[38;5;28mgetattr\u001b[39m(\u001b[43mmath\u001b[49m, \u001b[38;5;124m'\u001b[39m\u001b[38;5;124msqrt\u001b[39m\u001b[38;5;124m'\u001b[39m)(\u001b[38;5;241m4\u001b[39m)\n",
      "\u001b[1;31mNameError\u001b[0m: name 'math' is not defined"
     ]
    }
   ],
   "source": []
  },
  {
   "cell_type": "code",
   "execution_count": 1,
   "metadata": {},
   "outputs": [
    {
     "data": {
      "text/plain": [
       "[(([1, 333, 3],), {})]"
      ]
     },
     "execution_count": 1,
     "metadata": {},
     "output_type": "execute_result"
    }
   ],
   "source": [
    "import dice_calc.parser.parse_and_exec\n",
    "\n",
    "dice_calc.parser.parse_and_exec.safe_exec(\n",
    "'''\n",
    "a = [1, 2, 3]\n",
    "a[1] = 333\n",
    "output(a)\n",
    "''')"
   ]
  },
  {
   "cell_type": "code",
   "execution_count": 2,
   "metadata": {},
   "outputs": [
    {
     "name": "stdout",
     "output_type": "stream",
     "text": [
      "1.0 ± 0.0\n",
      "1: 100.00  █████████████████████████████████████████████████\n",
      "----------------------------------------------------------\n"
     ]
    }
   ],
   "source": [
    "import dice_calc.parser.example_parse as example_parse\n",
    "_ = example_parse.main([\n",
    "r'''\n",
    "\n",
    "output 1\n",
    "'''\n",
    "])\n"
   ]
  },
  {
   "cell_type": "code",
   "execution_count": 2,
   "metadata": {},
   "outputs": [
    {
     "name": "stdout",
     "output_type": "stream",
     "text": [
      "31.04 ± 12.09\n",
      " 8:  0.00  \n",
      " 9:  0.00  \n",
      "10:  0.02  \n",
      "11:  0.07  \n",
      "12:  0.18  \n",
      "13:  0.40  █\n",
      "14:  0.79  █\n",
      "15:  1.37  ██\n",
      "16:  2.15  ████\n",
      "17:  3.10  ██████\n",
      "18:  4.11  ███████\n",
      "19:  5.04  █████████\n",
      "20:  5.73  ██████████\n",
      "21:  6.06  ███████████\n",
      "22:  5.96  ███████████\n",
      "23:  5.46  ██████████\n",
      "24:  4.65  ████████\n",
      "25:  3.70  ███████\n",
      "26:  2.75  █████\n",
      "27:  1.93  ███\n",
      "28:  1.32  ██\n",
      "29:  0.94  ██\n",
      "30:  0.76  █\n",
      "31:  0.74  █\n",
      "32:  0.83  █\n",
      "33:  0.98  ██\n",
      "34:  1.17  ██\n",
      "35:  1.37  ██\n",
      "36:  1.58  ███\n",
      "37:  1.78  ███\n",
      "38:  1.98  ████\n",
      "39:  2.15  ████\n",
      "40:  2.29  ████\n",
      "41:  2.40  ████\n",
      "42:  2.46  ████\n",
      "43:  2.49  ████\n",
      "44:  2.46  ████\n",
      "45:  2.40  ████\n",
      "46:  2.29  ████\n",
      "47:  2.15  ████\n",
      "48:  1.98  ████\n",
      "49:  1.78  ███\n",
      "50:  1.58  ███\n",
      "51:  1.37  ██\n",
      "52:  1.17  ██\n",
      "53:  0.97  ██\n",
      "54:  0.79  █\n",
      "55:  0.63  █\n",
      "56:  0.49  █\n",
      "57:  0.37  █\n",
      "58:  0.27  \n",
      "59:  0.19  \n",
      "60:  0.13  \n",
      "61:  0.09  \n",
      "62:  0.06  \n",
      "63:  0.04  \n",
      "64:  0.02  \n",
      "65:  0.01  \n",
      "66:  0.01  \n",
      "67:  0.00  \n",
      "68:  0.00  \n",
      "69:  0.00  \n",
      "70:  0.00  \n",
      "--------------------------------------------------------------------------------------------------------------------------------------------------------------------------------------------\n"
     ]
    }
   ],
   "source": [
    "save_roll = roll(20)\n",
    "burning_arch_damage = roll(6, 10) + 10\n",
    "pass_save = save_roll >= 10\n",
    "damage_half_on_save = burning_arch_damage // (pass_save + 1)\n",
    "output(damage_half_on_save)"
   ]
  },
  {
   "cell_type": "code",
   "execution_count": 2,
   "metadata": {},
   "outputs": [],
   "source": [
    "reload()\n",
    "import time"
   ]
  },
  {
   "cell_type": "code",
   "execution_count": 5,
   "metadata": {},
   "outputs": [
    {
     "name": "stdout",
     "output_type": "stream",
     "text": [
      "7.0 ± 2.04\n",
      " 4: 16.67  ██████████████████████████████\n",
      " 5: 11.11  ████████████████████\n",
      " 6: 13.89  █████████████████████████\n",
      " 7: 16.67  ██████████████████████████████\n",
      " 8: 13.89  █████████████████████████\n",
      " 9: 11.11  ████████████████████\n",
      "10: 16.67  ██████████████████████████████\n",
      "--------------------------------------------------------------------------------------------------------------------------------------------------------------------------------------------\n",
      "T 0.0010006427764892578\n"
     ]
    }
   ],
   "source": [
    "to_parse = r'''\n",
    "\n",
    "function: clamp NUMBER:n between MIN:n and MAX:n {\n",
    "  if NUMBER < MIN { result: MIN }\n",
    "  if NUMBER > MAX { result: MAX }\n",
    "  result: NUMBER\n",
    "}\n",
    "\n",
    "output [clamp 2d6 between 4 and 10]  \\ <-- this works! \\\n",
    "'''\n",
    "T = time.time()\n",
    "for (args, kwargs) in pipeline(to_parse): output(*args, **kwargs)\n",
    "print('T', time.time() - T)"
   ]
  },
  {
   "cell_type": "code",
   "execution_count": 253,
   "metadata": {},
   "outputs": [
    {
     "name": "stdout",
     "output_type": "stream",
     "text": [
      "17.05 ± 0.82\n",
      " 3:  0.00  \n",
      " 4:  0.00  \n",
      " 5:  0.00  \n",
      " 6:  0.00  \n",
      " 7:  0.00  \n",
      " 8:  0.00  \n",
      " 9:  0.00  \n",
      "10:  0.00  \n",
      "11:  0.00  \n",
      "12:  0.00  \n",
      "13:  0.00  \n",
      "14:  0.18  \n",
      "15:  3.32  ██████\n",
      "16: 20.42  ██████████████████████████████████\n",
      "17: 43.65  █████████████████████████████████████████████████████████████████████████\n",
      "18: 32.43  ██████████████████████████████████████████████████████\n",
      "----------------------------------------------------------------------------------------------------------------------------------------------------------------------------------\n"
     ]
    }
   ],
   "source": [
    "reload()\n",
    "from funclib import highest_N_of_D\n",
    "@anydice_casting()\n",
    "def stat():\n",
    "    return highest_N_of_D(3, roll(4, 6))\n",
    "a = 1@roll(24, stat())\n",
    "output(a)\n",
    "# output(Seq(1,2)@roll(24, stat()))\n"
   ]
  },
  {
   "cell_type": "code",
   "execution_count": 249,
   "metadata": {},
   "outputs": [
    {
     "data": {
      "text/plain": [
       "3.5 ± 1.71\n",
       "1: 16.67  ████████████████████████████\n",
       "2: 16.67  ████████████████████████████\n",
       "3: 16.67  ████████████████████████████\n",
       "4: 16.67  ████████████████████████████\n",
       "5: 16.67  ████████████████████████████\n",
       "6: 16.67  ████████████████████████████\n",
       "----------------------------------------------------------------------------------------------------------------------------------------------------------------------------------"
      ]
     },
     "execution_count": 249,
     "metadata": {},
     "output_type": "execute_result"
    }
   ],
   "source": [
    "reload()\n",
    "\n",
    "# ----------------------------------------------------------------------------------------------------------------------------------------------------------------\n",
    "# TEST ALT CAST\n",
    "3+(d*6)\n",
    "(d*6)+3\n",
    "3-(d*6)\n",
    "(d*6)-3\n",
    "3*(d*6)\n",
    "(d*6)*3\n",
    "(d*6)/3\n",
    "3/(d*6)\n",
    "(d*6)//3\n",
    "3//(d*6)\n",
    "(d*6)**3\n",
    "3**(d*6)\n",
    "(d*6)%3\n",
    "3%(d*6)\n",
    "\n",
    "assert not (d*2) == (d*2)\n",
    "assert (d*1) == (d*1)\n",
    "assert not (d*2) != (d*2)\n",
    "assert not (d*1) != (d*1)\n",
    "assert (d*2) != roll([3, 4])\n",
    "\n",
    "assert (d*6)*12 >= (d*6)*2\n",
    "assert not (d*6)*11 >= (d*6)*2\n",
    "assert (d*6)*13 > (d*6)*2\n",
    "assert not (d*6)*12 > (d*6)*2\n",
    "\n",
    "assert (d*6)*2 <= (d*6)*12\n",
    "assert not (d*6)*2 <= (d*6)*11\n",
    "assert (d*6)*2 < (d*6)*13\n",
    "assert not (d*6)*2 < (d*6)*12\n",
    "\n",
    "assert RV.dices_are_equal(5*d*(d*4), roll(5, roll(4)))\n",
    "\n",
    "+(d*6)\n",
    "-(d*6)\n",
    "abs((d*6))\n",
    "round((d*6))\n",
    "math.ceil((d*6))\n",
    "math.floor((d*6))\n",
    "math.trunc((d*6))\n"
   ]
  },
  {
   "cell_type": "code",
   "execution_count": 92,
   "metadata": {},
   "outputs": [
    {
     "data": {
      "text/plain": [
       "(4.2,)"
      ]
     },
     "execution_count": 92,
     "metadata": {},
     "output_type": "execute_result"
    }
   ],
   "source": [
    "reload()\n",
    "Seq(Seq(4))\n",
    "a = Seq(4.2,)\n",
    "Seq(a)\n"
   ]
  },
  {
   "cell_type": "code",
   "execution_count": 21,
   "metadata": {},
   "outputs": [
    {
     "ename": "TypeError",
     "evalue": "unsupported operand type(s) for @: 'RV' and 'RV'",
     "output_type": "error",
     "traceback": [
      "\u001b[1;31m---------------------------------------------------------------------------\u001b[0m",
      "\u001b[1;31mTypeError\u001b[0m                                 Traceback (most recent call last)",
      "Cell \u001b[1;32mIn[21], line 3\u001b[0m\n\u001b[0;32m      1\u001b[0m \u001b[38;5;241m3\u001b[39m \u001b[38;5;241m@\u001b[39m roll(\u001b[38;5;241m4\u001b[39m, \u001b[38;5;241m4\u001b[39m)\n\u001b[0;32m      2\u001b[0m Seq(\u001b[38;5;241m2\u001b[39m, \u001b[38;5;241m3\u001b[39m) \u001b[38;5;241m@\u001b[39m roll(\u001b[38;5;241m4\u001b[39m, \u001b[38;5;241m4\u001b[39m)\n\u001b[1;32m----> 3\u001b[0m \u001b[43mroll\u001b[49m\u001b[43m(\u001b[49m\u001b[38;5;241;43m2\u001b[39;49m\u001b[43m,\u001b[49m\u001b[43m \u001b[49m\u001b[38;5;241;43m2\u001b[39;49m\u001b[43m)\u001b[49m\u001b[43m \u001b[49m\u001b[38;5;241;43m@\u001b[39;49m\u001b[43m \u001b[49m\u001b[43mroll\u001b[49m\u001b[43m(\u001b[49m\u001b[38;5;241;43m4\u001b[39;49m\u001b[43m,\u001b[49m\u001b[43m \u001b[49m\u001b[38;5;241;43m4\u001b[39;49m\u001b[43m)\u001b[49m\n",
      "\u001b[1;31mTypeError\u001b[0m: unsupported operand type(s) for @: 'RV' and 'RV'"
     ]
    }
   ],
   "source": [
    "3 @ roll(4, 4)\n",
    "Seq(2, 3) @ roll(4, 4)\n",
    "roll(2, 2) @ roll(4, 4)"
   ]
  },
  {
   "cell_type": "markdown",
   "metadata": {},
   "source": [
    "## magic missle test"
   ]
  },
  {
   "cell_type": "markdown",
   "metadata": {},
   "source": [
    "This is a demonstration to calculate the damage done in a certain build in baldurs gate 3"
   ]
  },
  {
   "cell_type": "code",
   "execution_count": 7,
   "metadata": {},
   "outputs": [
    {
     "name": "stdout",
     "output_type": "stream",
     "text": [
      "MM LVL1      57.0 ± 4.06\n",
      "MM LVL1 wet  67.5 ± 5.68\n",
      "MM LVL2      69.0 ± 4.36\n",
      "MM LVL2 wet  81.5 ± 5.89\n",
      "MM LVL3      81.0 ± 4.64\n",
      "MM LVL3 wet  95.5 ± 6.1\n",
      "MM LVL4      93.0 ± 4.9\n",
      "MM LVL4 wet  109.5 ± 6.3\n",
      "MM LVL5      105.0 ± 5.15\n",
      "MM LVL5 wet  123.5 ± 6.5\n"
     ]
    }
   ],
   "source": [
    "reload()\n",
    "\n",
    "def mm(L):\n",
    "    return base_mm(L, 1, 1, 1)\n",
    "def mm_wet(L):\n",
    "    return base_mm(L, 2, 1, 1)\n",
    "\n",
    "def base_mm(L, MULT_LIGHTNING, MULT_RADIANT, MULT_THUNDER):\n",
    "    N = L+3\n",
    "    A = roll(N, 4)+N    # base damage with evocation 20 INT, FORCE\n",
    "    B = roll(N, 4)        # shriek with evocation 20 INT, THUNDER\n",
    "    C = 2*N + 2*N  # glow ring for base and shriek, RADIANT \n",
    "    D = 2*(N-2)    # lightning charge +1 damage for every source except the first two, LIGHTNING \n",
    "    E = roll(1, 8)+1 + 1  # lightning stacks cause d8+1 and another +1 after shriek, LIGHTNING\n",
    "    F = roll(1, 4)      # shriek d4 from the lightning, THUNDER\n",
    "    G = 2 + 2      # glow ring for the lightning d8 and shriek d4 RADIANT\n",
    "\n",
    "    # apply multipliers\n",
    "    B = MULT_THUNDER*B\n",
    "    C = MULT_RADIANT*C\n",
    "    D = MULT_LIGHTNING*D\n",
    "    E = MULT_LIGHTNING*E\n",
    "    F = MULT_THUNDER*F\n",
    "    G = MULT_RADIANT*G\n",
    "\n",
    "    return A+B+C+D+E+F+G\n",
    "\n",
    "for lvl in range(1, 6):\n",
    "    output(mm(lvl),     f'MM LVL{lvl}     ', show_pdf=False)\n",
    "    output(mm_wet(lvl), f'MM LVL{lvl} wet ', show_pdf=False)"
   ]
  },
  {
   "cell_type": "markdown",
   "metadata": {},
   "source": [
    "# other"
   ]
  },
  {
   "cell_type": "code",
   "execution_count": 11,
   "metadata": {},
   "outputs": [
    {
     "name": "stdout",
     "output_type": "stream",
     "text": [
      "pre expand\n",
      "post expand\n",
      "pre rolls 177100\n"
     ]
    },
    {
     "data": {
      "text/plain": [
       "0"
      ]
     },
     "execution_count": 11,
     "metadata": {},
     "output_type": "execute_result"
    }
   ],
   "source": [
    "reload()\n",
    "\n",
    "1@roll(6, 20)\n",
    "# print(randvar)\n",
    "0"
   ]
  },
  {
   "cell_type": "code",
   "execution_count": 31,
   "metadata": {},
   "outputs": [],
   "source": [
    "def dummy_decorator(verbose=False):\n",
    "  def decorator(func):\n",
    "    def wrapper(*args, **kwargs):\n",
    "      args, kwargs = list(args), dict(kwargs)\n",
    "      for _ in range(100_000):\n",
    "        val = func(*args, **kwargs)  # single result of the function call\n",
    "      return None\n",
    "    return wrapper\n",
    "  return decorator\n"
   ]
  },
  {
   "cell_type": "code",
   "execution_count": 79,
   "metadata": {},
   "outputs": [],
   "source": []
  },
  {
   "cell_type": "code",
   "execution_count": 58,
   "metadata": {},
   "outputs": [
    {
     "data": {
      "text/plain": [
       "1.5 ± 0.96\n",
       "0: 16.67  ████████████████████████████\n",
       "1: 33.33  ████████████████████████████████████████████████████████\n",
       "2: 33.33  ████████████████████████████████████████████████████████\n",
       "3: 16.67  ████████████████████████████\n",
       "--------------------------------------------------------------------------------------------------------------------------------------------------------------------------"
      ]
     },
     "execution_count": 58,
     "metadata": {},
     "output_type": "execute_result"
    }
   ],
   "source": [
    "import randvar; importlib.reload(randvar)\n",
    "from randvar import Seq\n",
    "\n",
    "roll([roll('3d4'), [1, 2], [1, 2], [1]])\n",
    "\n",
    "fudge = roll(range(-1, 2))\n",
    "abs(roll('d6') - 3)\n",
    "\n"
   ]
  },
  {
   "cell_type": "code",
   "execution_count": 79,
   "metadata": {},
   "outputs": [
    {
     "name": "stdout",
     "output_type": "stream",
     "text": [
      "11.0 ± 1.58\n",
      " 8: 6.25  ██████████\n",
      " 9: 12.50  █████████████████████\n",
      "10: 18.75  ████████████████████████████████\n",
      "11: 25.00  ██████████████████████████████████████████\n",
      "12: 18.75  ████████████████████████████████\n",
      "13: 12.50  █████████████████████\n",
      "14: 6.25  ██████████\n",
      "----------------------------------------------------------------------------------------------------------------------------------------------------------------------------------\n"
     ]
    },
    {
     "data": {
      "text/plain": [
       "16.5 ± 1.94\n",
       "12: 1.56  ███\n",
       "13: 4.69  ████████\n",
       "14: 9.38  ████████████████\n",
       "15: 15.62  ██████████████████████████\n",
       "16: 18.75  ████████████████████████████████\n",
       "17: 18.75  ████████████████████████████████\n",
       "18: 15.62  ██████████████████████████\n",
       "19: 9.38  ████████████████\n",
       "20: 4.69  ████████\n",
       "21: 1.56  ███\n",
       "----------------------------------------------------------------------------------------------------------------------------------------------------------------------------------"
      ]
     },
     "execution_count": 79,
     "metadata": {},
     "output_type": "execute_result"
    }
   ],
   "source": [
    "reload()\n",
    "# TODO add to tests, rerolling before x\n",
    "from randvar import anydice_casting\n",
    "\n",
    "@anydice_casting()\n",
    "def reroll(A:int, B:int, C:int, _depth=10) -> int|None:\n",
    "    if A <= B and _depth > 0:\n",
    "        A = reroll(roll(C), B, C, _depth-1)\n",
    "    else:\n",
    "        return A \n",
    "\n",
    "@anydice_casting()\n",
    "def greatweaponmaster(A:int, B:int, C:int):\n",
    "    X = 0\n",
    "    for N in range(1, B+1):\n",
    "        X = X + reroll(roll(A), C, A)\n",
    "    return X\n",
    "\n",
    "\n",
    "a = greatweaponmaster(6, 2, 2) + 2\n",
    "# output(a)\n",
    "# 8\t6.25\t\n",
    "# 9\t12.50\t\n",
    "# 10\t18.75\t\n",
    "# 11\t25.00\t\n",
    "# 12\t18.75\t\n",
    "# 13\t12.50\t\n",
    "# 14\t6.25\t\n",
    "a = greatweaponmaster(6, 3, 2) + 3\n",
    "a\n",
    "# 12\t1.56\t\n",
    "# 13\t4.69\t\n",
    "# 14\t9.38\t\n",
    "# 15\t15.63\t\n",
    "# 16\t18.75\t\n",
    "# 17\t18.75\t\n",
    "# 18\t15.63\t\n",
    "# 19\t9.38\t\n",
    "# 20\t4.69\t\n",
    "# 21\t1.56"
   ]
  },
  {
   "cell_type": "code",
   "execution_count": 24,
   "metadata": {},
   "outputs": [],
   "source": [
    "# TODO add to tests, gwf\n",
    "\n",
    "# function: reroll DIE:d if under LIMIT:n {\n",
    "#   result: [reroll DIE as DIE if under LIMIT]\n",
    "# }\n",
    "# function: reroll ROLL:n as DIE:d if under LIMIT:n {\n",
    "#   if ROLL < LIMIT { result: DIE }\n",
    "#   else { result: ROLL }\n",
    "# }\n",
    "\n",
    "# loop SIDES over {4,6,8,12,20} {\n",
    "#   output [reroll dSIDES if under 3] named \"d[SIDES] with GWF\"\n",
    "# }\n",
    "\n",
    "from funclib import gwf\n",
    "\n",
    "@anydice_casting()\n",
    "def reroll_if_under(DIE:RV, LIMIT:int):\n",
    "    return reroll_as_if_under(DIE, DIE, LIMIT)\n",
    "\n",
    "@anydice_casting()\n",
    "def reroll_as_if_under(ROLL:int, DIE:RV, LIMIT:int):\n",
    "    if ROLL < LIMIT: \n",
    "        return DIE\n",
    "    else:\n",
    "        return ROLL\n",
    "\n",
    "for SIDES in Seq(4,6,8,12,20):\n",
    "    ans = reroll_if_under(roll(SIDES), 3)\n",
    "    # output(ans, named=f\"d{SIDES} with GWF\")\n",
    "    assert RV.dices_are_equal(ans, gwf(1, SIDES, 2))"
   ]
  },
  {
   "cell_type": "code",
   "execution_count": 4,
   "metadata": {},
   "outputs": [
    {
     "data": {
      "text/plain": [
       "0.82 ± 0.38\n",
       "0: 17.87  ██████████████████████████████\n",
       "1: 82.13  ███████████████████████████████████████████████████████████████████████████████████████████████████████████████████████████████████████████\n",
       "----------------------------------------------------------------------------------------------------------------------------------------------------------------------------------"
      ]
     },
     "execution_count": 4,
     "metadata": {},
     "output_type": "execute_result"
    }
   ],
   "source": [
    "reload()\n",
    "@anydice_casting()\n",
    "def total_before_roll_1(roll:int, die:RV, cur:int=0, total:int=10, max_depth:int=10):\n",
    "    if roll == 1:\n",
    "        return 0\n",
    "    cur += roll\n",
    "    if cur >= total:\n",
    "        return 1\n",
    "    else:\n",
    "        if max_depth == 1:\n",
    "            return -999\n",
    "        return total_before_roll_1(die, die, cur, total, max_depth-1)\n",
    "\n",
    "total_before_roll_1(roll(20), roll(20), total=35, max_depth=5).filter(-999)\n"
   ]
  },
  {
   "cell_type": "code",
   "execution_count": 3,
   "metadata": {},
   "outputs": [],
   "source": [
    "reload()\n",
    "@anydice_casting()\n",
    "def roll_xmore_before_yless(roll:int, die:RV, low:int, high:int, max_depth:int=10):\n",
    "    if roll >= high:\n",
    "        return 1\n",
    "    if roll <= low:\n",
    "        return 0\n",
    "    if max_depth == 1:\n",
    "        return -999\n",
    "    return roll_xmore_before_yless(die, die, low, high, max_depth-1)\n",
    "\n",
    "a = roll_xmore_before_yless(roll(20), roll(20), 1, 10, max_depth=3).filter(-999)\n",
    "assert RV.dices_are_equal(a, RV((0, 1), (1, 11)))"
   ]
  },
  {
   "cell_type": "code",
   "execution_count": null,
   "metadata": {},
   "outputs": [],
   "source": [
    "function: balanced RANK:n from FIVE:s {\n",
    " SIXTH: 72 - FIVE\n",
    " if SIXTH < 3 | SIXTH > 18 {\n",
    "  result: d{}\n",
    " }\n",
    " result: RANK @ [sort {FIVE, SIXTH}]\n",
    "}\n",
    "\n",
    "loop RANK over {1..6} {\n",
    " output [balanced RANK from 5d[highest 3 of 4d6]]\n",
    "}"
   ]
  },
  {
   "cell_type": "markdown",
   "metadata": {},
   "source": [
    "# PARSING"
   ]
  },
  {
   "cell_type": "code",
   "execution_count": 1,
   "metadata": {},
   "outputs": [],
   "source": [
    "import importlib\n",
    "import randvar\n",
    "importlib.reload(randvar)\n",
    "from randvar import RV, Seq, anydice_casting, roll, output\n",
    "from utils import myrange\n",
    "\n"
   ]
  },
  {
   "cell_type": "code",
   "execution_count": 105,
   "metadata": {},
   "outputs": [
    {
     "name": "stdout",
     "output_type": "stream",
     "text": [
      "from utils import myrange\n",
      "from randvar import RV, Seq, anydice_casting, output, roll, settings_set \n",
      "import funclib \n",
      "from funclib import absolute as absolute_X\n",
      "from funclib import contains as X_contains_X\n",
      "from funclib import count_in as count_X_in_X\n",
      "from funclib import explode as explode_X\n",
      "from funclib import highest_N_of_D as highest_X_of_X\n",
      "from funclib import lowest_N_of_D as lowest_X_of_X\n",
      "from funclib import middle_N_of_D as middle_X_of_X\n",
      "from funclib import highest_of_N_and_N as highest_of_X_and_X\n",
      "from funclib import lowest_of_N_and_N as lowest_of_X_and_X\n",
      "from funclib import maximum_of as maximum_of_X\n",
      "from funclib import reverse as reverse_X\n",
      "from funclib import sort as sort_X\n"
     ]
    }
   ],
   "source": [
    "_import_str = 'from utils import myrange\\n'\n",
    "_import_str += 'from randvar import RV, Seq, anydice_casting, output, roll, settings_set \\n'\n",
    "_import_str += 'import funclib \\n'\n",
    "helper_funcs = [('absolute', 'absolute_X'), \n",
    "                ('contains', 'X_contains_X'), \n",
    "                ('count_in', 'count_X_in_X'), \n",
    "                ('explode', 'explode_X'), \n",
    "                ('highest_N_of_D', 'highest_X_of_X'), \n",
    "                ('lowest_N_of_D', 'lowest_X_of_X'), \n",
    "                ('middle_N_of_D', 'middle_X_of_X'), \n",
    "                ('highest_of_N_and_N', 'highest_of_X_and_X'), \n",
    "                ('lowest_of_N_and_N', 'lowest_of_X_and_X'), \n",
    "                ('maximum_of', 'maximum_of_X'), \n",
    "                ('reverse', 'reverse_X'), \n",
    "                ('sort', 'sort_X')]\n",
    "_import_str += '\\n'.join(f'from funclib import {k} as {v}' for k,v in helper_funcs)\n",
    "'\n",
    "print(_import_str)"
   ]
  },
  {
   "cell_type": "code",
   "execution_count": 9,
   "metadata": {},
   "outputs": [
    {
     "ename": "TypeError",
     "evalue": "'NoneType' object is not iterable",
     "output_type": "error",
     "traceback": [
      "\u001b[1;31m---------------------------------------------------------------------------\u001b[0m",
      "\u001b[1;31mTypeError\u001b[0m                                 Traceback (most recent call last)",
      "Cell \u001b[1;32mIn[9], line 3\u001b[0m\n\u001b[0;32m      1\u001b[0m \u001b[38;5;28;01mdef\u001b[39;00m \u001b[38;5;21mt\u001b[39m(x):\n\u001b[0;32m      2\u001b[0m     \u001b[38;5;28mprint\u001b[39m(\u001b[38;5;124m'\u001b[39m\u001b[38;5;124mt got\u001b[39m\u001b[38;5;124m'\u001b[39m, x)\n\u001b[1;32m----> 3\u001b[0m \u001b[38;5;28mlist\u001b[39m(\u001b[38;5;28;43mmap\u001b[39;49m\u001b[43m(\u001b[49m\u001b[43mt\u001b[49m\u001b[43m,\u001b[49m\u001b[43m \u001b[49m\u001b[38;5;28;43;01mNone\u001b[39;49;00m\u001b[43m)\u001b[49m)\n",
      "\u001b[1;31mTypeError\u001b[0m: 'NoneType' object is not iterable"
     ]
    }
   ],
   "source": [
    "def t(x):\n",
    "    print('t got', x)\n",
    "list(map(t, None))\n"
   ]
  },
  {
   "cell_type": "code",
   "execution_count": 4,
   "metadata": {},
   "outputs": [
    {
     "data": {
      "text/plain": [
       "4.0 ± 1.15\n",
       "2: 11.11  ████████████████████\n",
       "3: 22.22  ████████████████████████████████████████\n",
       "4: 33.33  ████████████████████████████████████████████████████████████\n",
       "5: 22.22  ████████████████████████████████████████\n",
       "6: 11.11  ████████████████████\n",
       "--------------------------------------------------------------------------------------------------------------------------------------------------------------------------------------------"
      ]
     },
     "execution_count": 4,
     "metadata": {},
     "output_type": "execute_result"
    }
   ],
   "source": [
    "from funclib import maximum_of as maximum_of_X\n",
    "from funclib import reverse as reverse_X\n",
    "\n",
    "reverse_X(roll(2, 3))"
   ]
  },
  {
   "cell_type": "code",
   "execution_count": 34,
   "metadata": {},
   "outputs": [],
   "source": [
    "from randvar import RV, Seq, anydice_casting, roll, output\n",
    "from utils import myrange\n",
    "# from funclib import \n",
    "\n",
    "@anydice_casting()\n",
    "def restrict_X_to_X_else_X(ROLL: int, RANGE: Seq, REROLL: RV):\n",
    "  if ROLL == RANGE:\n",
    "      return ROLL\n",
    "  else:\n",
    "      return REROLL\n",
    "\n",
    "@anydice_casting()\n",
    "def restrict_X_to_X(ROLL: RV, RANGE: Seq):\n",
    "  for I in Seq([myrange(1, 20)]):\n",
    "      ROLL = restrict_X_to_X_else_X(ROLL, RANGE, ROLL)\n",
    "  return ROLL\n",
    "\n",
    "# output(restrict_X_to_X(roll(3, 6), Seq([3])), named=f\"3d6 if odd\")\n",
    "for _ in range(20):\n",
    "    restrict_X_to_X_else_X(roll(3, 6), Seq([3]), roll(3, 6))"
   ]
  }
 ],
 "metadata": {
  "kernelspec": {
   "display_name": "Python 3 (ipykernel)",
   "language": "python",
   "name": "python3"
  },
  "language_info": {
   "codemirror_mode": {
    "name": "ipython",
    "version": 3
   },
   "file_extension": ".py",
   "mimetype": "text/x-python",
   "name": "python",
   "nbconvert_exporter": "python",
   "pygments_lexer": "ipython3",
   "version": "3.11.4"
  }
 },
 "nbformat": 4,
 "nbformat_minor": 2
}
