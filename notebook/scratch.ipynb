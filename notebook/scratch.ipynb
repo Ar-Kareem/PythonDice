{
 "cells": [
  {
   "cell_type": "markdown",
   "metadata": {},
   "source": [
    "# RV calculator"
   ]
  },
  {
   "cell_type": "markdown",
   "metadata": {},
   "source": [
    "This is a clone of the language and capabilities of anydice.com but using the python language"
   ]
  },
  {
   "cell_type": "code",
   "execution_count": 19,
   "metadata": {
    "notebookRunGroups": {
     "groupValue": "1"
    }
   },
   "outputs": [],
   "source": [
    "import importlib\n",
    "import math\n",
    "import numpy as np\n",
    "\n",
    "import dice_calc\n",
    "import dice_calc.parser\n",
    "from dice_calc import roll, output, anydice_casting, Seq\n",
    "from dice_calc.parser import compile_anydice, _get_lib\n",
    "\n",
    "def reload():\n",
    "  importlib.reload(dice_calc)\n",
    "  importlib.reload(dice_calc.parser)\n",
    "  global roll, output, compile_anydice, _get_lib, anydice_casting, Seq\n",
    "  from dice_calc import roll, output, anydice_casting, Seq\n",
    "  from dice_calc.parser import compile_anydice, _get_lib\n",
    "\n"
   ]
  },
  {
   "cell_type": "code",
   "execution_count": 3,
   "metadata": {},
   "outputs": [
    {
     "data": {
      "text/plain": [
       "[(([1, 333, 3],), {})]"
      ]
     },
     "execution_count": 3,
     "metadata": {},
     "output_type": "execute_result"
    }
   ],
   "source": [
    "import dice_calc.parser.parse_and_exec\n",
    "\n",
    "dice_calc.parser.parse_and_exec.safe_exec(\n",
    "'''\n",
    "a = [1, 2, 3]\n",
    "a[1] = 333\n",
    "output(a)\n",
    "''')"
   ]
  },
  {
   "cell_type": "code",
   "execution_count": 4,
   "metadata": {},
   "outputs": [
    {
     "name": "stderr",
     "output_type": "stream",
     "text": [
      "output(1)\n",
      "\n",
      "1: output(1)\n",
      "2: \n",
      "'module' object is not callable\n",
      "Traceback (most recent call last):\n",
      "  File \"M:\\MyFiles\\Code\\Python\\Scripts\\pythondice\\build\\__editable__.dice_calc-0.3.1-py3-none-any\\dice_calc\\parser\\example_parse.py\", line 56, in main\n",
      "    output(*args, **kwargs, blocks_width=50)\n",
      "TypeError: 'module' object is not callable\n"
     ]
    }
   ],
   "source": [
    "import dice_calc.parser.example_parse as example_parse\n",
    "_ = example_parse.main([\n",
    "r'''\n",
    "\n",
    "output 1\n",
    "'''\n",
    "])\n"
   ]
  },
  {
   "cell_type": "code",
   "execution_count": 6,
   "metadata": {},
   "outputs": [
    {
     "name": "stdout",
     "output_type": "stream",
     "text": [
      "31.04 ± 12.09\n",
      " 8:  0.00  \n",
      " 9:  0.00  \n",
      "10:  0.02  \n",
      "11:  0.07  \n",
      "12:  0.18  \n",
      "13:  0.40  █\n",
      "14:  0.79  █\n",
      "15:  1.37  ██\n",
      "16:  2.15  ████\n",
      "17:  3.10  ██████\n",
      "18:  4.11  ███████\n",
      "19:  5.04  █████████\n",
      "20:  5.73  ██████████\n",
      "21:  6.06  ███████████\n",
      "22:  5.96  ███████████\n",
      "23:  5.46  ██████████\n",
      "24:  4.65  ████████\n",
      "25:  3.70  ███████\n",
      "26:  2.75  █████\n",
      "27:  1.93  ███\n",
      "28:  1.32  ██\n",
      "29:  0.94  ██\n",
      "30:  0.76  █\n",
      "31:  0.74  █\n",
      "32:  0.83  █\n",
      "33:  0.98  ██\n",
      "34:  1.17  ██\n",
      "35:  1.37  ██\n",
      "36:  1.58  ███\n",
      "37:  1.78  ███\n",
      "38:  1.98  ████\n",
      "39:  2.15  ████\n",
      "40:  2.29  ████\n",
      "41:  2.40  ████\n",
      "42:  2.46  ████\n",
      "43:  2.49  ████\n",
      "44:  2.46  ████\n",
      "45:  2.40  ████\n",
      "46:  2.29  ████\n",
      "47:  2.15  ████\n",
      "48:  1.98  ████\n",
      "49:  1.78  ███\n",
      "50:  1.58  ███\n",
      "51:  1.37  ██\n",
      "52:  1.17  ██\n",
      "53:  0.97  ██\n",
      "54:  0.79  █\n",
      "55:  0.63  █\n",
      "56:  0.49  █\n",
      "57:  0.37  █\n",
      "58:  0.27  \n",
      "59:  0.19  \n",
      "60:  0.13  \n",
      "61:  0.09  \n",
      "62:  0.06  \n",
      "63:  0.04  \n",
      "64:  0.02  \n",
      "65:  0.01  \n",
      "66:  0.01  \n",
      "67:  0.00  \n",
      "68:  0.00  \n",
      "69:  0.00  \n",
      "70:  0.00  \n",
      "--------------------------------------------------------------------------------------------------------------------------------------------------------------------------------------------\n"
     ]
    }
   ],
   "source": [
    "save_roll = roll(20)\n",
    "burning_arch_damage = roll(6, 10) + 10\n",
    "pass_save = save_roll >= 10\n",
    "damage_half_on_save = burning_arch_damage // (pass_save + 1)\n",
    "output(damage_half_on_save)"
   ]
  },
  {
   "cell_type": "code",
   "execution_count": null,
   "metadata": {},
   "outputs": [
    {
     "name": "stderr",
     "output_type": "stream",
     "text": [
      "WARNING reducing probabilities | sum limit 1e+31, sum2e+37, NORMALIZING BY 2e+17 | from my calc, abs err <= 1e-20\n"
     ]
    },
    {
     "name": "stderr",
     "output_type": "stream",
     "text": [
      "WARNING reducing probabilities | sum limit 1e+31, sum1e+40, NORMALIZING BY 1e+20 | from my calc, abs err <= 1e-20\n",
      "WARNING reducing probabilities | sum limit 1e+31, sum5e+74, NORMALIZING BY 5e+54 | from my calc, abs err <= 1e-20\n"
     ]
    },
    {
     "name": "stdout",
     "output_type": "stream",
     "text": [
      "17.05 ± 0.82\n",
      " 3:  0.00  \n",
      " 4:  0.00  \n",
      " 5:  0.00  \n",
      " 6:  0.00  \n",
      " 7:  0.00  \n",
      " 8:  0.00  \n",
      " 9:  0.00  \n",
      "10:  0.00  \n",
      "11:  0.00  \n",
      "12:  0.00  \n",
      "13:  0.00  \n",
      "14:  0.18  \n",
      "15:  3.32  ██████\n",
      "16: 20.42  ████████████████████████████████████\n",
      "17: 43.65  ██████████████████████████████████████████████████████████████████████████████\n",
      "18: 32.43  ██████████████████████████████████████████████████████████\n",
      "--------------------------------------------------------------------------------------------------------------------------------------------------------------------------------------------\n"
     ]
    }
   ],
   "source": [
    "reload()\n",
    "from dice_calc.funclib import highest_N_of_D\n",
    "@anydice_casting\n",
    "def stat():\n",
    "    return highest_N_of_D(3, roll(4, 6))\n",
    "a = 1@roll(24, stat())\n",
    "output(a)\n",
    "# output(Seq(1,2)@roll(24, stat()))\n"
   ]
  },
  {
   "cell_type": "code",
   "execution_count": 20,
   "metadata": {},
   "outputs": [
    {
     "data": {
      "text/plain": [
       "Seq((4.2,))"
      ]
     },
     "execution_count": 20,
     "metadata": {},
     "output_type": "execute_result"
    }
   ],
   "source": [
    "reload()\n",
    "Seq(Seq(4))\n",
    "a = Seq(4.2,)\n",
    "Seq(a)\n"
   ]
  },
  {
   "cell_type": "code",
   "execution_count": 21,
   "metadata": {},
   "outputs": [
    {
     "ename": "TypeError",
     "evalue": "A position selector must be either a number or a sequence, but you provided \"4d4\"",
     "output_type": "error",
     "traceback": [
      "\u001b[1;31m---------------------------------------------------------------------------\u001b[0m",
      "\u001b[1;31mTypeError\u001b[0m                                 Traceback (most recent call last)",
      "Cell \u001b[1;32mIn[21], line 3\u001b[0m\n\u001b[0;32m      1\u001b[0m \u001b[38;5;241m3\u001b[39m \u001b[38;5;241m@\u001b[39m roll(\u001b[38;5;241m4\u001b[39m, \u001b[38;5;241m4\u001b[39m)\n\u001b[0;32m      2\u001b[0m Seq(\u001b[38;5;241m2\u001b[39m, \u001b[38;5;241m3\u001b[39m) \u001b[38;5;241m@\u001b[39m roll(\u001b[38;5;241m4\u001b[39m, \u001b[38;5;241m4\u001b[39m)\n\u001b[1;32m----> 3\u001b[0m \u001b[43mroll\u001b[49m\u001b[43m(\u001b[49m\u001b[38;5;241;43m2\u001b[39;49m\u001b[43m,\u001b[49m\u001b[43m \u001b[49m\u001b[38;5;241;43m2\u001b[39;49m\u001b[43m)\u001b[49m\u001b[43m \u001b[49m\u001b[38;5;241;43m@\u001b[39;49m\u001b[43m \u001b[49m\u001b[43mroll\u001b[49m\u001b[43m(\u001b[49m\u001b[38;5;241;43m4\u001b[39;49m\u001b[43m,\u001b[49m\u001b[43m \u001b[49m\u001b[38;5;241;43m4\u001b[39;49m\u001b[43m)\u001b[49m\n",
      "File \u001b[1;32mM:\\MyFiles\\Code\\Python\\Scripts\\pythondice\\build\\__editable__.dice_calc-0.3.1-py3-none-any\\dice_calc\\randvar.py:205\u001b[0m, in \u001b[0;36mRV.__matmul__\u001b[1;34m(self, other)\u001b[0m\n\u001b[0;32m    203\u001b[0m \u001b[38;5;28;01mdef\u001b[39;00m \u001b[38;5;21m__matmul__\u001b[39m(\u001b[38;5;28mself\u001b[39m, other: T_ifs):\n\u001b[0;32m    204\u001b[0m   \u001b[38;5;66;03m# ( self:RV @ other ) thus not allowed,\u001b[39;00m\n\u001b[1;32m--> 205\u001b[0m   \u001b[38;5;28;01mraise\u001b[39;00m \u001b[38;5;167;01mTypeError\u001b[39;00m(\u001b[38;5;124mf\u001b[39m\u001b[38;5;124m'\u001b[39m\u001b[38;5;124mA position selector must be either a number or a sequence, but you provided \u001b[39m\u001b[38;5;124m\"\u001b[39m\u001b[38;5;132;01m{\u001b[39;00mother\u001b[38;5;132;01m}\u001b[39;00m\u001b[38;5;124m\"\u001b[39m\u001b[38;5;124m'\u001b[39m)\n",
      "\u001b[1;31mTypeError\u001b[0m: A position selector must be either a number or a sequence, but you provided \"4d4\""
     ]
    }
   ],
   "source": [
    "3 @ roll(4, 4)\n",
    "Seq(2, 3) @ roll(4, 4)\n",
    "roll(2, 2) @ roll(4, 4)"
   ]
  },
  {
   "cell_type": "markdown",
   "metadata": {},
   "source": [
    "## magic missle test"
   ]
  },
  {
   "cell_type": "markdown",
   "metadata": {},
   "source": [
    "This is a demonstration to calculate the damage done in a certain build in baldurs gate 3"
   ]
  },
  {
   "cell_type": "code",
   "execution_count": 22,
   "metadata": {},
   "outputs": [
    {
     "name": "stdout",
     "output_type": "stream",
     "text": [
      "MM LVL1      57.0 ± 4.06\n",
      "MM LVL1 wet  67.5 ± 5.68\n",
      "MM LVL2      69.0 ± 4.36\n",
      "MM LVL2 wet  81.5 ± 5.89\n",
      "MM LVL3      81.0 ± 4.64\n",
      "MM LVL3 wet  95.5 ± 6.1\n",
      "MM LVL4      93.0 ± 4.9\n",
      "MM LVL4 wet  109.5 ± 6.3\n",
      "MM LVL5      105.0 ± 5.15\n",
      "MM LVL5 wet  123.5 ± 6.5\n"
     ]
    }
   ],
   "source": [
    "reload()\n",
    "\n",
    "def mm(L):\n",
    "    return base_mm(L, 1, 1, 1)\n",
    "def mm_wet(L):\n",
    "    return base_mm(L, 2, 1, 1)\n",
    "\n",
    "def base_mm(L, MULT_LIGHTNING, MULT_RADIANT, MULT_THUNDER):\n",
    "    N = L+3\n",
    "    A = roll(N, 4)+N    # base damage with evocation 20 INT, FORCE\n",
    "    B = roll(N, 4)        # shriek with evocation 20 INT, THUNDER\n",
    "    C = 2*N + 2*N  # glow ring for base and shriek, RADIANT \n",
    "    D = 2*(N-2)    # lightning charge +1 damage for every source except the first two, LIGHTNING \n",
    "    E = roll(1, 8)+1 + 1  # lightning stacks cause d8+1 and another +1 after shriek, LIGHTNING\n",
    "    F = roll(1, 4)      # shriek d4 from the lightning, THUNDER\n",
    "    G = 2 + 2      # glow ring for the lightning d8 and shriek d4 RADIANT\n",
    "\n",
    "    # apply multipliers\n",
    "    B = MULT_THUNDER*B\n",
    "    C = MULT_RADIANT*C\n",
    "    D = MULT_LIGHTNING*D\n",
    "    E = MULT_LIGHTNING*E\n",
    "    F = MULT_THUNDER*F\n",
    "    G = MULT_RADIANT*G\n",
    "\n",
    "    return A+B+C+D+E+F+G\n",
    "\n",
    "for lvl in range(1, 6):\n",
    "    output(mm(lvl),     f'MM LVL{lvl}     ', show_pdf=False)\n",
    "    output(mm_wet(lvl), f'MM LVL{lvl} wet ', show_pdf=False)"
   ]
  },
  {
   "cell_type": "markdown",
   "metadata": {},
   "source": [
    "# other"
   ]
  },
  {
   "cell_type": "code",
   "execution_count": 23,
   "metadata": {},
   "outputs": [
    {
     "data": {
      "text/plain": [
       "0"
      ]
     },
     "execution_count": 23,
     "metadata": {},
     "output_type": "execute_result"
    }
   ],
   "source": [
    "reload()\n",
    "\n",
    "1@roll(6, 20)\n",
    "# print(randvar)\n",
    "0"
   ]
  },
  {
   "cell_type": "code",
   "execution_count": 24,
   "metadata": {},
   "outputs": [],
   "source": [
    "def dummy_decorator(verbose=False):\n",
    "  def decorator(func):\n",
    "    def wrapper(*args, **kwargs):\n",
    "      args, kwargs = list(args), dict(kwargs)\n",
    "      for _ in range(100_000):\n",
    "        val = func(*args, **kwargs)  # single result of the function call\n",
    "      return None\n",
    "    return wrapper\n",
    "  return decorator\n"
   ]
  },
  {
   "cell_type": "code",
   "execution_count": 79,
   "metadata": {},
   "outputs": [],
   "source": []
  },
  {
   "cell_type": "code",
   "execution_count": 27,
   "metadata": {},
   "outputs": [
    {
     "data": {
      "text/plain": [
       "1.5 ± 0.96\n",
       "0: 16.67  ██████████████████████████████\n",
       "1: 33.33  ████████████████████████████████████████████████████████████\n",
       "2: 33.33  ████████████████████████████████████████████████████████████\n",
       "3: 16.67  ██████████████████████████████\n",
       "--------------------------------------------------------------------------------------------------------------------------------------------------------------------------------------------"
      ]
     },
     "execution_count": 27,
     "metadata": {},
     "output_type": "execute_result"
    }
   ],
   "source": [
    "reload()\n",
    "\n",
    "roll([roll('3d4'), [1, 2], [1, 2], [1]])\n",
    "\n",
    "fudge = roll(range(-1, 2))\n",
    "abs(roll('d6') - 3)\n",
    "\n"
   ]
  },
  {
   "cell_type": "code",
   "execution_count": null,
   "metadata": {},
   "outputs": [
    {
     "data": {
      "text/plain": [
       "16.5 ± 1.94\n",
       "12:  1.56  ███\n",
       "13:  4.69  ████████\n",
       "14:  9.38  █████████████████\n",
       "15: 15.62  ████████████████████████████\n",
       "16: 18.75  █████████████████████████████████\n",
       "17: 18.75  █████████████████████████████████\n",
       "18: 15.62  ████████████████████████████\n",
       "19:  9.38  █████████████████\n",
       "20:  4.69  ████████\n",
       "21:  1.56  ███\n",
       "--------------------------------------------------------------------------------------------------------------------------------------------------------------------------------------------"
      ]
     },
     "execution_count": 29,
     "metadata": {},
     "output_type": "execute_result"
    }
   ],
   "source": [
    "reload()\n",
    "# TODO add to tests, rerolling before x\n",
    "\n",
    "@anydice_casting\n",
    "def reroll(A:int, B:int, C:int, _depth=10) -> int|None:\n",
    "    if A <= B and _depth > 0:\n",
    "        A = reroll(roll(C), B, C, _depth-1)\n",
    "    else:\n",
    "        return A \n",
    "\n",
    "@anydice_casting\n",
    "def greatweaponmaster(A:int, B:int, C:int):\n",
    "    X = 0\n",
    "    for N in range(1, B+1):\n",
    "        X = X + reroll(roll(A), C, A)\n",
    "    return X\n",
    "\n",
    "\n",
    "a = greatweaponmaster(6, 2, 2) + 2\n",
    "# output(a)\n",
    "# 8  6.25  \n",
    "# 9  12.50  \n",
    "# 10  18.75  \n",
    "# 11  25.00  \n",
    "# 12  18.75  \n",
    "# 13  12.50  \n",
    "# 14  6.25  \n",
    "a = greatweaponmaster(6, 3, 2) + 3\n",
    "a\n",
    "# 12  1.56  \n",
    "# 13  4.69  \n",
    "# 14  9.38  \n",
    "# 15  15.63  \n",
    "# 16  18.75  \n",
    "# 17  18.75  \n",
    "# 18  15.63  \n",
    "# 19  9.38  \n",
    "# 20  4.69  \n",
    "# 21  1.56"
   ]
  },
  {
   "cell_type": "code",
   "execution_count": null,
   "metadata": {},
   "outputs": [],
   "source": [
    "# TODO add to tests, gwf\n",
    "\n",
    "# function: reroll DIE:d if under LIMIT:n {\n",
    "#   result: [reroll DIE as DIE if under LIMIT]\n",
    "# }\n",
    "# function: reroll ROLL:n as DIE:d if under LIMIT:n {\n",
    "#   if ROLL < LIMIT { result: DIE }\n",
    "#   else { result: ROLL }\n",
    "# }\n",
    "\n",
    "# loop SIDES over {4,6,8,12,20} {\n",
    "#   output [reroll dSIDES if under 3] named \"d[SIDES] with GWF\"\n",
    "# }\n",
    "\n",
    "from dice_calc.funclib import gwf\n",
    "\n",
    "@anydice_casting\n",
    "def reroll_if_under(DIE:RV, LIMIT:int):\n",
    "    return reroll_as_if_under(DIE, DIE, LIMIT)\n",
    "\n",
    "@anydice_casting\n",
    "def reroll_as_if_under(ROLL:int, DIE:RV, LIMIT:int):\n",
    "    if ROLL < LIMIT: \n",
    "        return DIE\n",
    "    else:\n",
    "        return ROLL\n",
    "\n",
    "for SIDES in Seq(4,6,8,12,20):\n",
    "    ans = reroll_if_under(roll(SIDES), 3)\n",
    "    # output(ans, named=f\"d{SIDES} with GWF\")\n",
    "    assert RV.dices_are_equal(ans, gwf(1, SIDES, 2))"
   ]
  },
  {
   "cell_type": "code",
   "execution_count": null,
   "metadata": {},
   "outputs": [
    {
     "data": {
      "text/plain": [
       "0.82 ± 0.38\n",
       "0: 17.87  ████████████████████████████████\n",
       "1: 82.13  ███████████████████████████████████████████████████████████████████████████████████████████████████████████████████████████████████████████████████\n",
       "--------------------------------------------------------------------------------------------------------------------------------------------------------------------------------------------"
      ]
     },
     "execution_count": 32,
     "metadata": {},
     "output_type": "execute_result"
    }
   ],
   "source": [
    "reload()\n",
    "@anydice_casting\n",
    "def total_before_roll_1(roll:int, die:RV, cur:int=0, total:int=10, max_depth:int=10):\n",
    "    if roll == 1:\n",
    "        return 0\n",
    "    cur += roll\n",
    "    if cur >= total:\n",
    "        return 1\n",
    "    else:\n",
    "        if max_depth == 1:\n",
    "            return -999\n",
    "        return total_before_roll_1(die, die, cur, total, max_depth-1)\n",
    "\n",
    "total_before_roll_1(roll(20), roll(20), total=35, max_depth=5).filter(-999)\n"
   ]
  },
  {
   "cell_type": "code",
   "execution_count": null,
   "metadata": {},
   "outputs": [],
   "source": [
    "reload()\n",
    "@anydice_casting\n",
    "def roll_xmore_before_yless(roll:int, die:RV, low:int, high:int, max_depth:int=10):\n",
    "    if roll >= high:\n",
    "        return 1\n",
    "    if roll <= low:\n",
    "        return 0\n",
    "    if max_depth == 1:\n",
    "        return -999\n",
    "    return roll_xmore_before_yless(die, die, low, high, max_depth-1)\n",
    "\n",
    "a = roll_xmore_before_yless(roll(20), roll(20), 1, 10, max_depth=3).filter(-999)\n",
    "assert RV.dices_are_equal(a, RV((0, 1), (1, 11)))"
   ]
  },
  {
   "cell_type": "code",
   "execution_count": null,
   "metadata": {},
   "outputs": [],
   "source": [
    "function: balanced RANK:n from FIVE:s {\n",
    " SIXTH: 72 - FIVE\n",
    " if SIXTH < 3 | SIXTH > 18 {\n",
    "  result: d{}\n",
    " }\n",
    " result: RANK @ [sort {FIVE, SIXTH}]\n",
    "}\n",
    "\n",
    "loop RANK over {1..6} {\n",
    " output [balanced RANK from 5d[highest 3 of 4d6]]\n",
    "}"
   ]
  },
  {
   "cell_type": "code",
   "execution_count": 5,
   "metadata": {},
   "outputs": [
    {
     "data": {
      "text/plain": [
       "True"
      ]
     },
     "execution_count": 5,
     "metadata": {},
     "output_type": "execute_result"
    }
   ],
   "source": [
    "class rand:\n",
    "  pass\n",
    "class Var:\n",
    "  mytype = object()\n",
    "  def __init__(self, value):\n",
    "    self.value = value\n",
    "  def __eq__(self, other):\n",
    "    return self.value == other.value\n",
    "Var(Var.mytype) == Var(Var.mytype)"
   ]
  }
 ],
 "metadata": {
  "kernelspec": {
   "display_name": "Python 3",
   "language": "python",
   "name": "python3"
  },
  "language_info": {
   "codemirror_mode": {
    "name": "ipython",
    "version": 3
   },
   "file_extension": ".py",
   "mimetype": "text/x-python",
   "name": "python",
   "nbconvert_exporter": "python",
   "pygments_lexer": "ipython3",
   "version": "3.12.0"
  }
 },
 "nbformat": 4,
 "nbformat_minor": 2
}
