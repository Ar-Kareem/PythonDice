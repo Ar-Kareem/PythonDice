{
 "cells": [
  {
   "cell_type": "code",
   "execution_count": 1,
   "metadata": {
    "notebookRunGroups": {
     "groupValue": "1"
    },
    "tags": [
     "ignore_cell"
    ]
   },
   "outputs": [],
   "source": [
    "# add tag 'ignore_cell' to not include cell in README"
   ]
  },
  {
   "cell_type": "code",
   "execution_count": 2,
   "metadata": {
    "tags": [
     "ignore_cell"
    ]
   },
   "outputs": [],
   "source": [
    "try:\n",
    "    import dice_calc\n",
    "except:\n",
    "    print('module not installed')\n",
    "    print('Did you activate the local environment?')\n",
    "    print('Did you run `pip install -e . --config-settings editable_mode=strict` in the root directory?')"
   ]
  },
  {
   "cell_type": "code",
   "execution_count": 3,
   "metadata": {
    "tags": [
     "ignore_cell"
    ]
   },
   "outputs": [],
   "source": [
    "from dice_calc import settings_set, settings_reset\n",
    "settings_reset()\n",
    "settings_set('DEFAULT_OUTPUT_WIDTH',  80) "
   ]
  },
  {
   "cell_type": "markdown",
   "metadata": {},
   "source": [
    "# PythonDice\n",
    "This is a python package that includes a simple to use and powerful dice probability engine. \n",
    "\n",
    "This package offers features and capabilities to calculate probabilities of arbitrary dice scripts including full capabilities of `anydice.com`. \n",
    "\n",
    "Additionaly, this package includes the first* custom built compiler that translates any** valid `anydice.com` code into runnable python code.\n",
    "\n",
    "This project is still in early development but everything mentioned above is complete. (project started October 2024)\n",
    "\n",
    "\\* as far as we know\n",
    "\n",
    "\\*\\* except very rare edge cases (e.g. using numbers >$2^{53}$ causing `anydice` to potentially perform incorrect/different calculations) mentioned at the end for transparency."
   ]
  },
  {
   "cell_type": "markdown",
   "metadata": {},
   "source": [
    "# Features\n",
    "\n",
    "1. Ability to compile and run any `anydice` script **directly and locally in python** with a single function call.\n",
    "   * Of course, this means that all operations and functions that are available in `anydice` are available in this package.\n",
    "\n",
    "2. Ability to write scripts that combine the complexity of the `anydice` language with the power of Python (built-in libraries such as `itertools`, custom classes, etc.).\n",
    "\n",
    "3. Very light-weight pure Python implementation with zero dependencies. Using this package requires no other modules. \n",
    "\n",
    "4. Package is actively maintained (as of October 2024) and we welcome all new issues/questions/feedback/suggestions"
   ]
  },
  {
   "cell_type": "markdown",
   "metadata": {},
   "source": [
    "# Installation\n",
    "\n",
    "`pip install dice-calc`\n",
    "\n",
    "This package has no dependencies. Requires `Python >= 3.9`"
   ]
  },
  {
   "cell_type": "markdown",
   "metadata": {},
   "source": [
    "# Basic Usage\n",
    "\n",
    "If you are familiar with the `anydice.com` language then you should skip to section `compiling anydice.com code` which automatically converts the provided `anydice` code to this packages code thus teaching you all the nuances of this package.\n",
    "\n",
    "The examples below are **not comprehensive at all**. They just show very basic use cases of our package."
   ]
  },
  {
   "cell_type": "markdown",
   "metadata": {},
   "source": [
    "### Example #1: \n",
    "Let's roll a single d20 dice (a d20 is a regular twenty sided-die)"
   ]
  },
  {
   "cell_type": "code",
   "execution_count": 4,
   "metadata": {},
   "outputs": [
    {
     "name": "stdout",
     "output_type": "stream",
     "text": [
      "10.5 ± 5.77\n",
      " 1:  5.00  ████\n",
      " 2:  5.00  ████\n",
      " 3:  5.00  ████\n",
      " 4:  5.00  ████\n",
      " 5:  5.00  ████\n",
      " 6:  5.00  ████\n",
      " 7:  5.00  ████\n",
      " 8:  5.00  ████\n",
      " 9:  5.00  ████\n",
      "10:  5.00  ████\n",
      "11:  5.00  ████\n",
      "12:  5.00  ████\n",
      "13:  5.00  ████\n",
      "14:  5.00  ████\n",
      "15:  5.00  ████\n",
      "16:  5.00  ████\n",
      "17:  5.00  ████\n",
      "18:  5.00  ████\n",
      "19:  5.00  ████\n",
      "20:  5.00  ████\n",
      "----------------------------------------------------------------------------------------\n"
     ]
    }
   ],
   "source": [
    "from dice_calc import roll, output\n",
    "X = roll(20)\n",
    "output(X)"
   ]
  },
  {
   "cell_type": "markdown",
   "metadata": {},
   "source": [
    "The numbers on the first line are the mean and std."
   ]
  },
  {
   "cell_type": "markdown",
   "metadata": {},
   "source": [
    "### Example #2\n",
    "Let's roll two d6 dice (a d6 is a regular six sided-die)"
   ]
  },
  {
   "cell_type": "code",
   "execution_count": 5,
   "metadata": {},
   "outputs": [
    {
     "name": "stdout",
     "output_type": "stream",
     "text": [
      "7.0 ± 2.42\n",
      " 2:  2.78  ██\n",
      " 3:  5.56  ████\n",
      " 4:  8.33  ██████\n",
      " 5: 11.11  █████████\n",
      " 6: 13.89  ███████████\n",
      " 7: 16.67  █████████████\n",
      " 8: 13.89  ███████████\n",
      " 9: 11.11  █████████\n",
      "10:  8.33  ██████\n",
      "11:  5.56  ████\n",
      "12:  2.78  ██\n",
      "----------------------------------------------------------------------------------------\n"
     ]
    }
   ],
   "source": [
    "from dice_calc import roll, output\n",
    "X = roll(2, 6)  # or roll(6) + roll(6)\n",
    "output(X)"
   ]
  },
  {
   "cell_type": "markdown",
   "metadata": {},
   "source": [
    "### Example #3\n",
    "\n",
    "What about rolling a D20 plus a D6?"
   ]
  },
  {
   "cell_type": "code",
   "execution_count": 6,
   "metadata": {},
   "outputs": [
    {
     "name": "stdout",
     "output_type": "stream",
     "text": [
      "14.0 ± 6.01\n",
      " 2:  0.83  █\n",
      " 3:  1.67  █\n",
      " 4:  2.50  ██\n",
      " 5:  3.33  ███\n",
      " 6:  4.17  ███\n",
      " 7:  5.00  ████\n",
      " 8:  5.00  ████\n",
      " 9:  5.00  ████\n",
      "10:  5.00  ████\n",
      "11:  5.00  ████\n",
      "12:  5.00  ████\n",
      "13:  5.00  ████\n",
      "14:  5.00  ████\n",
      "15:  5.00  ████\n",
      "16:  5.00  ████\n",
      "17:  5.00  ████\n",
      "18:  5.00  ████\n",
      "19:  5.00  ████\n",
      "20:  5.00  ████\n",
      "21:  5.00  ████\n",
      "22:  4.17  ███\n",
      "23:  3.33  ███\n",
      "24:  2.50  ██\n",
      "25:  1.67  █\n",
      "26:  0.83  █\n",
      "----------------------------------------------------------------------------------------\n"
     ]
    }
   ],
   "source": [
    "from dice_calc import roll, output\n",
    "X = roll(20) + roll(6)\n",
    "output(X)"
   ]
  },
  {
   "cell_type": "markdown",
   "metadata": {},
   "source": [
    "### Example #4\n",
    "What about the probability distribution of rolling two D20's with advantage (i.e. rolling two D20's and taking the highest number)"
   ]
  },
  {
   "cell_type": "code",
   "execution_count": 7,
   "metadata": {},
   "outputs": [
    {
     "name": "stdout",
     "output_type": "stream",
     "text": [
      "13.82 ± 4.71\n",
      " 1:  0.25  \n",
      " 2:  0.75  █\n",
      " 3:  1.25  █\n",
      " 4:  1.75  █\n",
      " 5:  2.25  ██\n",
      " 6:  2.75  ██\n",
      " 7:  3.25  ███\n",
      " 8:  3.75  ███\n",
      " 9:  4.25  ███\n",
      "10:  4.75  ████\n",
      "11:  5.25  ████\n",
      "12:  5.75  ████\n",
      "13:  6.25  █████\n",
      "14:  6.75  █████\n",
      "15:  7.25  ██████\n",
      "16:  7.75  ██████\n",
      "17:  8.25  ██████\n",
      "18:  8.75  ███████\n",
      "19:  9.25  ███████\n",
      "20:  9.75  ████████\n",
      "----------------------------------------------------------------------------------------\n"
     ]
    }
   ],
   "source": [
    "from dice_calc import roll, output\n",
    "X = 1 @ roll(2, 20)\n",
    "output(X)"
   ]
  },
  {
   "cell_type": "markdown",
   "metadata": {},
   "source": [
    "### Example #5\n",
    "Let's try a slightly more complex example. \n",
    "\n",
    "Rolling a D20 with advantage + two D6's + 5"
   ]
  },
  {
   "cell_type": "code",
   "execution_count": 8,
   "metadata": {},
   "outputs": [
    {
     "name": "stdout",
     "output_type": "stream",
     "text": [
      "25.82 ± 5.29\n",
      " 8:  0.01  \n",
      " 9:  0.03  \n",
      "10:  0.10  \n",
      "11:  0.21  \n",
      "12:  0.38  \n",
      "13:  0.63  \n",
      "14:  0.96  █\n",
      "15:  1.35  █\n",
      "16:  1.78  █\n",
      "17:  2.26  ██\n",
      "18:  2.75  ██\n",
      "19:  3.25  ███\n",
      "20:  3.75  ███\n",
      "21:  4.25  ███\n",
      "22:  4.75  ████\n",
      "23:  5.25  ████\n",
      "24:  5.75  ████\n",
      "25:  6.25  █████\n",
      "26:  6.75  █████\n",
      "27:  7.25  ██████\n",
      "28:  7.47  ██████\n",
      "29:  7.38  ██████\n",
      "30:  6.99  █████\n",
      "31:  6.26  █████\n",
      "32:  5.20  ████\n",
      "33:  3.78  ███\n",
      "34:  2.57  ██\n",
      "35:  1.57  █\n",
      "36:  0.80  █\n",
      "37:  0.27  \n",
      "----------------------------------------------------------------------------------------\n"
     ]
    }
   ],
   "source": [
    "from dice_calc import roll, output\n",
    "D20_adv = 1 @ roll(2, 20)\n",
    "two_D6 = roll(2, 6)\n",
    "result = D20_adv + two_D6 + 5\n",
    "output(result)"
   ]
  },
  {
   "cell_type": "markdown",
   "metadata": {},
   "source": [
    "### getting evaluated results (roller)\n",
    "\n",
    "Any RV object (dice / random variable) can be rolled using the `rolled` function."
   ]
  },
  {
   "cell_type": "code",
   "execution_count": 9,
   "metadata": {},
   "outputs": [
    {
     "data": {
      "text/plain": [
       "7"
      ]
     },
     "execution_count": 9,
     "metadata": {},
     "output_type": "execute_result"
    }
   ],
   "source": [
    "from dice_calc import roll, roller\n",
    "X = 1 @ roll(2, 20)  # rolls a d20 with advantage\n",
    "roller(X)  # gets a random value from rolling a d20 with advantage"
   ]
  },
  {
   "cell_type": "markdown",
   "metadata": {},
   "source": [
    "### Complex Example:\n",
    "\n",
    "Let's try calculating the total damage of the following attack on a boss in an RPG: \n",
    "- TO HIT: 1d20 + 7 against 22 AC (less than 22 is a miss. rolling a 20 is a CRITICAL so double the damage die)\n",
    "- DAMAGE: 2d8 + 4 blunt damange \n",
    "- \\+ 1d4 thunder damage\n",
    "- \\+ 1d10 + 3 radiant damange (half damage if the target succeeds a 16 DC wisdom saving throw, boss has +5 wis saving throw)"
   ]
  },
  {
   "cell_type": "code",
   "execution_count": 10,
   "metadata": {},
   "outputs": [
    {
     "data": {
      "image/png": "[encoded data removed]",
      "text/plain": [
       "<Figure size 640x480 with 1 Axes>"
      ]
     },
     "metadata": {},
     "output_type": "display_data"
    }
   ],
   "source": [
    "from dice_calc import roll, anydice_casting\n",
    "\n",
    "@anydice_casting()\n",
    "def calculate(to_hit_roll: int, save_roll: int):  # type hinting as int REQUIRED!!!\n",
    "    if to_hit_roll + 7 < 22:  # miss\n",
    "        return 0\n",
    "    is_crit = (to_hit_roll == 20)\n",
    "    dmg_die_mult = 2 if is_crit else 1\n",
    "    blung_dmg = roll(2 * dmg_die_mult, 8) + 4\n",
    "    thund_dmg = roll(1 * dmg_die_mult, 4)\n",
    "    radiant_dmg = roll(1 * dmg_die_mult, 10) + 3\n",
    "    if save_roll + 5 >= 16:  # save success\n",
    "        radiant_dmg = radiant_dmg // 2\n",
    "    return blung_dmg + thund_dmg + radiant_dmg\n",
    "\n",
    "\n",
    "X = calculate(roll(20), roll(20))\n",
    "\n",
    "# plotting code\n",
    "from matplotlib import pyplot as plt\n",
    "vals, probs = zip(*X.get_vals_probs())\n",
    "plt.bar(vals, probs); plt.xlabel('Damage'); plt.ylabel('Probability');"
   ]
  },
  {
   "cell_type": "markdown",
   "metadata": {},
   "source": [
    "Notice how we used the decorator `@anydice_casting` to use `if` conditions on dice inside of a custom function. Typehinting the input to `int` is required, the engine knows that you want to calculate the function many times based on all possible combinations of the input random variable.\n",
    "\n",
    "The three valid typehints that the decorator `@anydice_casting` looks for are `: int`, `: Seq`, `: RV` which are equivelant to the 3 types `:n`, `:s`, and `:d` respectively in `anydice`. The casting done by `@anydice_casting` is exactly how casting is done in the `anydice` language. For more info on that please read the [documentation `functions -> Parameter types` in the `anydice` docs](https://anydice.com/docs/functions/) .\n",
    "\n",
    "Note: `Seq` and `RV` are imported from `dice_calc.randvar`"
   ]
  },
  {
   "cell_type": "markdown",
   "metadata": {},
   "source": [
    "# Getting probabilities as dict "
   ]
  },
  {
   "cell_type": "code",
   "execution_count": 11,
   "metadata": {},
   "outputs": [
    {
     "name": "stdout",
     "output_type": "stream",
     "text": [
      "{1: 0.0025, 2: 0.0075, 3: 0.0125, 4: 0.0175, 5: 0.0225, 6: 0.0275, 7: 0.0325, 8: 0.0375, 9: 0.0425, 10: 0.0475, 11: 0.0525, 12: 0.0575, 13: 0.0625, 14: 0.0675, 15: 0.0725, 16: 0.0775, 17: 0.0825, 18: 0.0875, 19: 0.0925, 20: 0.0975}\n"
     ]
    }
   ],
   "source": [
    "from dice_calc import roll\n",
    "X = 1 @ roll(2, 20)  # D20 with advantage\n",
    "pdf = dict(X.get_vals_probs())\n",
    "print(pdf)"
   ]
  },
  {
   "cell_type": "markdown",
   "metadata": {},
   "source": [
    "## plotting using matploblib\n"
   ]
  },
  {
   "cell_type": "code",
   "execution_count": 12,
   "metadata": {},
   "outputs": [
    {
     "data": {
      "image/png": "[encoded data removed]",
      "text/plain": [
       "<Figure size 640x480 with 1 Axes>"
      ]
     },
     "metadata": {},
     "output_type": "display_data"
    }
   ],
   "source": [
    "from dice_calc import roll\n",
    "X = 1 @ roll(2, 20) + 8  # D20 with advantage + 8\n",
    "\n",
    "# plotting code\n",
    "from matplotlib import pyplot as plt\n",
    "vals, probs = zip(*X.get_vals_probs())\n",
    "percent = [p * 100 for p in probs]\n",
    "plt.bar(vals, percent); plt.xlabel('Roll'); plt.ylabel('Probability %');"
   ]
  },
  {
   "cell_type": "markdown",
   "metadata": {},
   "source": [
    "# compiling anydice.com code\n",
    "\n",
    "[anydice](anydice.com) is a powerful and popular online dice calculater which inspired the creation of this package. Any* valid code from anydice can be converted to valid python code using this package in a single function call.\n",
    "\n",
    "Below we take an example piece of code from the anydice articles [legend of the five rings](https://anydice.com/articles/legend-of-the-five-rings/).\n",
    "\n",
    "We convert it using the function `compile_anydice` and then execute it using our package (p.s. don't forget to import all the library functions as we do below)."
   ]
  },
  {
   "cell_type": "code",
   "execution_count": 13,
   "metadata": {},
   "outputs": [
    {
     "name": "stdout",
     "output_type": "stream",
     "text": [
      "@max_func_depth()\n",
      "@anydice_casting()\n",
      "def convert_X(SUM: int):\n",
      "  if SUM >= 1000:\n",
      "    TENSROLLED = SUM // 1000\n",
      "    return SUM - TENSROLLED * 990 + roll(TENSROLLED, explode_X(roll(10)))\n",
      "  \n",
      "  return SUM\n",
      "\n",
      "output(convert_X(highest_X_of_X(3, roll(6, Seq([myrange(1, 9), 1000])))), named=f\"6k3 exploded after keeping\")\n",
      "\n"
     ]
    }
   ],
   "source": [
    "from dice_calc.parser import compile_anydice\n",
    "\n",
    "EXAMPLE_CODE = \"\"\"\n",
    "function: convert SUM:n {\n",
    " if SUM >= 1000 {\n",
    "  TENSROLLED: SUM / 1000\n",
    "  result: SUM - TENSROLLED * 990 + TENSROLLED d [explode d10]\n",
    " }\n",
    " result: SUM\n",
    "}\n",
    "\n",
    "output [convert [highest 3 of 6d{1..9, 1000}]] named \"6k3 exploded after keeping\"\n",
    "\"\"\"\n",
    "\n",
    "code = compile_anydice(EXAMPLE_CODE)\n",
    "print(code)"
   ]
  },
  {
   "cell_type": "code",
   "execution_count": 14,
   "metadata": {
    "tags": [
     "ignore_cell"
    ]
   },
   "outputs": [],
   "source": [
    "CLIP_AFTER = 35\n",
    "def clip_print(*args, **kwargs):\n",
    "    global CLIP_AFTER\n",
    "    if CLIP_AFTER < 0:\n",
    "        return\n",
    "    sep = kwargs.get('sep', ' ')\n",
    "    end = kwargs.get('end', '\\n')\n",
    "    output = sep.join(map(str, args)) + end\n",
    "    cur_len = output.count('\\n')\n",
    "    if CLIP_AFTER > cur_len:\n",
    "        print(*args, **kwargs)\n",
    "        CLIP_AFTER -= cur_len\n",
    "        return\n",
    "    else:\n",
    "        # last print, need to crop\n",
    "        output_clipped = '\\n'.join(output.split('\\n')[:CLIP_AFTER])\n",
    "        print(output_clipped, **kwargs)\n",
    "        print('... output cropped ...')\n",
    "        CLIP_AFTER = -1\n",
    "\n",
    "import dice_calc\n",
    "dice_calc.settings_set('DEFAULT_PRINT_FN', clip_print)"
   ]
  },
  {
   "cell_type": "code",
   "execution_count": 15,
   "metadata": {},
   "outputs": [
    {
     "name": "stdout",
     "output_type": "stream",
     "text": [
      "6k3 exploded after keeping 26.53 ± 8.32\n",
      "  3:  0.00  \n",
      "  4:  0.00  \n",
      "  5:  0.00  \n",
      "  6:  0.01  \n",
      "  7:  0.02  \n",
      "  8:  0.04  \n",
      "  9:  0.09  \n",
      " 10:  0.17  \n",
      " 11:  0.29  \n",
      " 12:  0.48  \n",
      " 13:  0.76  █\n",
      " 14:  1.12  █\n",
      " 15:  1.62  █\n",
      " 16:  2.22  ██\n",
      " 17:  2.92  ██\n",
      " 18:  3.71  ███\n",
      " 19:  4.55  ████\n",
      " 20:  5.31  ████\n",
      " 21:  6.00  █████\n",
      " 22:  6.40  █████\n",
      " 23:  6.51  █████\n",
      " 24:  6.20  █████\n",
      " 25:  5.61  ████\n",
      " 26:  4.65  ████\n",
      " 27:  3.78  ███\n",
      " 28:  3.14  ██\n",
      " 29:  3.45  ███\n",
      " 30:  3.40  ███\n",
      " 31:  3.32  ███\n",
      " 32:  3.16  ██\n",
      " 33:  2.93  ██\n",
      " 34:  2.60  ██\n",
      " 35:  2.21  ██\n",
      " 36:  1.78  █\n",
      "... output cropped ...\n"
     ]
    }
   ],
   "source": [
    "# IMPORT EVERYTHING\n",
    "from dice_calc import *\n",
    "\n",
    "# EXECUTE CODE FROM COMPILE_ANYDICE\n",
    "@max_func_depth()\n",
    "@anydice_casting()\n",
    "def convert_X(SUM: int):\n",
    "  if SUM >= 1000:\n",
    "    TENSROLLED = SUM // 1000\n",
    "    return SUM - TENSROLLED * 990 + roll(TENSROLLED, explode_X(roll(10)))\n",
    "  \n",
    "  return SUM\n",
    "\n",
    "output(convert_X(highest_X_of_X(3, roll(6, Seq([myrange(1, 9), 1000])))), named=f\"6k3 exploded after keeping\")\n"
   ]
  },
  {
   "cell_type": "code",
   "execution_count": 16,
   "metadata": {
    "tags": [
     "ignore_cell"
    ]
   },
   "outputs": [],
   "source": [
    "CLIP_AFTER = 35\n",
    "dice_calc.randvar.settings_set('DEFAULT_PRINT_FN', clip_print)"
   ]
  },
  {
   "cell_type": "markdown",
   "metadata": {},
   "source": [
    "Or you can do it all in one line"
   ]
  },
  {
   "cell_type": "code",
   "execution_count": 17,
   "metadata": {},
   "outputs": [
    {
     "name": "stdout",
     "output_type": "stream",
     "text": [
      "6k3 exploded after keeping 26.53 ± 8.32\n",
      "  3:  0.00  \n",
      "  4:  0.00  \n",
      "  5:  0.00  \n",
      "  6:  0.01  \n",
      "  7:  0.02  \n",
      "  8:  0.04  \n",
      "  9:  0.09  \n",
      " 10:  0.17  \n",
      " 11:  0.29  \n",
      " 12:  0.48  \n",
      " 13:  0.76  █\n",
      " 14:  1.12  █\n",
      " 15:  1.62  █\n",
      " 16:  2.22  ██\n",
      " 17:  2.92  ██\n",
      " 18:  3.71  ███\n",
      " 19:  4.55  ████\n",
      " 20:  5.31  ████\n",
      " 21:  6.00  █████\n",
      " 22:  6.40  █████\n",
      " 23:  6.51  █████\n",
      " 24:  6.20  █████\n",
      " 25:  5.61  ████\n",
      " 26:  4.65  ████\n",
      " 27:  3.78  ███\n",
      " 28:  3.14  ██\n",
      " 29:  3.45  ███\n",
      " 30:  3.40  ███\n",
      " 31:  3.32  ███\n",
      " 32:  3.16  ██\n",
      " 33:  2.93  ██\n",
      " 34:  2.60  ██\n",
      " 35:  2.21  ██\n",
      " 36:  1.78  █\n",
      "... output cropped ...\n"
     ]
    }
   ],
   "source": [
    "from dice_calc.parser import compile_anydice, _get_lib\n",
    "\n",
    "EXAMPLE_CODE = \"\"\"\n",
    "function: convert SUM:n {\n",
    " if SUM >= 1000 {\n",
    "  TENSROLLED: SUM / 1000\n",
    "  result: SUM - TENSROLLED * 990 + TENSROLLED d [explode d10]\n",
    " }\n",
    " result: SUM\n",
    "}\n",
    "\n",
    "output [convert [highest 3 of 6d{1..9, 1000}]] named \"6k3 exploded after keeping\"\n",
    "\"\"\"\n",
    "\n",
    "exec(compile_anydice(EXAMPLE_CODE), _get_lib())"
   ]
  },
  {
   "cell_type": "markdown",
   "metadata": {},
   "source": [
    "Note that calls to the built-in python function `exec` executes arbitrary code and could be dangerous if malicious code is run. Only run `exec` on code you trust.\n",
    "\n",
    "`compile_anydice` was developed to only generate safe code, but no garuntees are made."
   ]
  },
  {
   "cell_type": "markdown",
   "metadata": {},
   "source": [
    "## compile_anydice edge cases\n",
    "\n",
    "The `compile_anydice` function was a large part of this project. Under the hood it is a custom compiler built using Python's implementation of `lex` and `yacc` provided by [`PLY (Python Lex-Yacc)`](https://github.com/dabeaz/ply).\n",
    "\n",
    "As far as we tested, almost all valid `anydice` code worked perfectly using our compiler, except for extremely rare/intentionally ignored subsets of `anydice` code mentioned below:\n",
    "\n",
    "\n",
    "1. ~~certain operators on ints and nothing else.~~ **Update : #1 has been correctly implemented** (as an optional compiler flag)\n",
    "\n",
    "2. ~~Limit on global function depth.~~ **Update : #2 has been correctly implemented** (currently permenant but will become an optional compiler flag in the future)\n",
    "\n",
    "3. ~~(very rare) Naming a fucntion as an illegal reserved keywords~~ **Update : #3 been correctly implemented ; automatically turns on when a collision is detected by the compiler**\n",
    "\n",
    "4. **(very rare) MAX_INT is higher in python than in JavaScript**: This is a very rare issue when a number is larger than $2^{53}$. See example we made here: https://anydice.com/program/39567\n",
    "\n",
    "Note: that in certain cases our **`compile_anydice` code runs while `anydice` crashes**. This is because our compiler allows certain pieces of code (like defining functions within functions or outputs inside of functions) to execute perfectly while `anydice` crashes for the same input. We do not consider this as a failiure since our goal is to make any code that runs on `anydice` to also run using our package, the reverse of that is of no concern. In fact, the descrepancy is considered a positive for us as it means we handle more pieces of code than `anydice`."
   ]
  },
  {
   "cell_type": "markdown",
   "metadata": {},
   "source": [
    "If you discover any code that behaves differently when run on `anydice.com` then please report it to us as an issue so we can keep improving this package."
   ]
  },
  {
   "cell_type": "markdown",
   "metadata": {
    "tags": [
     "ignore_cell"
    ]
   },
   "source": [
    "# END\n",
    "# BELOW NOT INCLUDED"
   ]
  },
  {
   "cell_type": "code",
   "execution_count": 18,
   "metadata": {
    "tags": [
     "ignore_cell"
    ]
   },
   "outputs": [
    {
     "name": "stderr",
     "output_type": "stream",
     "text": [
      "[NbConvertApp] Converting notebook ./notebook/readme_generator.ipynb to markdown\n",
      "[NbConvertApp] Support files will be in ./README_files\\\n",
      "[NbConvertApp] Writing 14245 bytes to README.md\n"
     ]
    }
   ],
   "source": [
    "!jupyter nbconvert \\\n",
    "    --to markdown ./notebook/readme_generator.ipynb \\\n",
    "    --TagRemovePreprocessor.remove_cell_tags=\"['ignore_cell']\" \\\n",
    "    --output-dir=./ \\\n",
    "    --output=./README.md\n"
   ]
  }
 ],
 "metadata": {
  "kernelspec": {
   "display_name": "base",
   "language": "python",
   "name": "python3"
  },
  "language_info": {
   "codemirror_mode": {
    "name": "ipython",
    "version": 3
   },
   "file_extension": ".py",
   "mimetype": "text/x-python",
   "name": "python",
   "nbconvert_exporter": "python",
   "pygments_lexer": "ipython3",
   "version": "3.12.0"
  }
 },
 "nbformat": 4,
 "nbformat_minor": 2
}
